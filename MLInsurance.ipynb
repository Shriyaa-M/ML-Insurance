{
 "cells": [
  {
   "cell_type": "markdown",
   "id": "5677b8ca",
   "metadata": {},
   "source": [
    "### E22031 - Shriya Muralidas\n"
   ]
  },
  {
   "cell_type": "code",
   "execution_count": 1,
   "id": "e3815939",
   "metadata": {},
   "outputs": [],
   "source": [
    "import pandas as pd\n",
    "import numpy as np\n",
    "import matplotlib.pyplot as plt\n",
    "import seaborn as sns\n",
    "import os"
   ]
  },
  {
   "cell_type": "code",
   "execution_count": 2,
   "id": "48874832",
   "metadata": {},
   "outputs": [],
   "source": [
    "import random\n",
    "import seaborn as sns\n",
    "from scipy import stats"
   ]
  },
  {
   "cell_type": "code",
   "execution_count": 3,
   "id": "87bb6c98",
   "metadata": {},
   "outputs": [],
   "source": [
    "#import os\n",
    "#os.chdir(r'C:\\Users\\Shriya\\Downloads\\PPP')"
   ]
  },
  {
   "cell_type": "code",
   "execution_count": 4,
   "id": "38f6f94d",
   "metadata": {},
   "outputs": [],
   "source": [
    "df=pd.read_csv('insurance_data.csv')"
   ]
  },
  {
   "cell_type": "code",
   "execution_count": 5,
   "id": "8e4c692b",
   "metadata": {},
   "outputs": [
    {
     "data": {
      "text/html": [
       "<div>\n",
       "<style scoped>\n",
       "    .dataframe tbody tr th:only-of-type {\n",
       "        vertical-align: middle;\n",
       "    }\n",
       "\n",
       "    .dataframe tbody tr th {\n",
       "        vertical-align: top;\n",
       "    }\n",
       "\n",
       "    .dataframe thead th {\n",
       "        text-align: right;\n",
       "    }\n",
       "</style>\n",
       "<table border=\"1\" class=\"dataframe\">\n",
       "  <thead>\n",
       "    <tr style=\"text-align: right;\">\n",
       "      <th></th>\n",
       "      <th>PatientID</th>\n",
       "      <th>age</th>\n",
       "      <th>gender</th>\n",
       "      <th>bmi</th>\n",
       "      <th>bloodpressure</th>\n",
       "      <th>diabetic</th>\n",
       "      <th>children</th>\n",
       "      <th>smoker</th>\n",
       "      <th>region</th>\n",
       "      <th>claim</th>\n",
       "    </tr>\n",
       "  </thead>\n",
       "  <tbody>\n",
       "    <tr>\n",
       "      <th>0</th>\n",
       "      <td>1</td>\n",
       "      <td>39.0</td>\n",
       "      <td>male</td>\n",
       "      <td>23.2</td>\n",
       "      <td>91</td>\n",
       "      <td>Yes</td>\n",
       "      <td>0</td>\n",
       "      <td>No</td>\n",
       "      <td>southeast</td>\n",
       "      <td>1121.87</td>\n",
       "    </tr>\n",
       "    <tr>\n",
       "      <th>1</th>\n",
       "      <td>2</td>\n",
       "      <td>24.0</td>\n",
       "      <td>male</td>\n",
       "      <td>30.1</td>\n",
       "      <td>87</td>\n",
       "      <td>No</td>\n",
       "      <td>0</td>\n",
       "      <td>No</td>\n",
       "      <td>southeast</td>\n",
       "      <td>1131.51</td>\n",
       "    </tr>\n",
       "    <tr>\n",
       "      <th>2</th>\n",
       "      <td>3</td>\n",
       "      <td>NaN</td>\n",
       "      <td>male</td>\n",
       "      <td>33.3</td>\n",
       "      <td>82</td>\n",
       "      <td>Yes</td>\n",
       "      <td>0</td>\n",
       "      <td>No</td>\n",
       "      <td>southeast</td>\n",
       "      <td>1135.94</td>\n",
       "    </tr>\n",
       "    <tr>\n",
       "      <th>3</th>\n",
       "      <td>4</td>\n",
       "      <td>NaN</td>\n",
       "      <td>male</td>\n",
       "      <td>33.7</td>\n",
       "      <td>80</td>\n",
       "      <td>No</td>\n",
       "      <td>0</td>\n",
       "      <td>No</td>\n",
       "      <td>northwest</td>\n",
       "      <td>1136.40</td>\n",
       "    </tr>\n",
       "    <tr>\n",
       "      <th>4</th>\n",
       "      <td>5</td>\n",
       "      <td>NaN</td>\n",
       "      <td>male</td>\n",
       "      <td>34.1</td>\n",
       "      <td>100</td>\n",
       "      <td>No</td>\n",
       "      <td>0</td>\n",
       "      <td>No</td>\n",
       "      <td>northwest</td>\n",
       "      <td>1137.01</td>\n",
       "    </tr>\n",
       "    <tr>\n",
       "      <th>...</th>\n",
       "      <td>...</td>\n",
       "      <td>...</td>\n",
       "      <td>...</td>\n",
       "      <td>...</td>\n",
       "      <td>...</td>\n",
       "      <td>...</td>\n",
       "      <td>...</td>\n",
       "      <td>...</td>\n",
       "      <td>...</td>\n",
       "      <td>...</td>\n",
       "    </tr>\n",
       "    <tr>\n",
       "      <th>1335</th>\n",
       "      <td>1336</td>\n",
       "      <td>44.0</td>\n",
       "      <td>female</td>\n",
       "      <td>35.5</td>\n",
       "      <td>88</td>\n",
       "      <td>Yes</td>\n",
       "      <td>0</td>\n",
       "      <td>Yes</td>\n",
       "      <td>northwest</td>\n",
       "      <td>55135.40</td>\n",
       "    </tr>\n",
       "    <tr>\n",
       "      <th>1336</th>\n",
       "      <td>1337</td>\n",
       "      <td>59.0</td>\n",
       "      <td>female</td>\n",
       "      <td>38.1</td>\n",
       "      <td>120</td>\n",
       "      <td>No</td>\n",
       "      <td>1</td>\n",
       "      <td>Yes</td>\n",
       "      <td>northeast</td>\n",
       "      <td>58571.07</td>\n",
       "    </tr>\n",
       "    <tr>\n",
       "      <th>1337</th>\n",
       "      <td>1338</td>\n",
       "      <td>30.0</td>\n",
       "      <td>male</td>\n",
       "      <td>34.5</td>\n",
       "      <td>91</td>\n",
       "      <td>Yes</td>\n",
       "      <td>3</td>\n",
       "      <td>Yes</td>\n",
       "      <td>northwest</td>\n",
       "      <td>60021.40</td>\n",
       "    </tr>\n",
       "    <tr>\n",
       "      <th>1338</th>\n",
       "      <td>1339</td>\n",
       "      <td>37.0</td>\n",
       "      <td>male</td>\n",
       "      <td>30.4</td>\n",
       "      <td>106</td>\n",
       "      <td>No</td>\n",
       "      <td>0</td>\n",
       "      <td>Yes</td>\n",
       "      <td>southeast</td>\n",
       "      <td>62592.87</td>\n",
       "    </tr>\n",
       "    <tr>\n",
       "      <th>1339</th>\n",
       "      <td>1340</td>\n",
       "      <td>30.0</td>\n",
       "      <td>female</td>\n",
       "      <td>47.4</td>\n",
       "      <td>101</td>\n",
       "      <td>No</td>\n",
       "      <td>0</td>\n",
       "      <td>Yes</td>\n",
       "      <td>southeast</td>\n",
       "      <td>63770.43</td>\n",
       "    </tr>\n",
       "  </tbody>\n",
       "</table>\n",
       "<p>1340 rows × 10 columns</p>\n",
       "</div>"
      ],
      "text/plain": [
       "      PatientID   age  gender   bmi  bloodpressure diabetic  children smoker  \\\n",
       "0             1  39.0    male  23.2             91      Yes         0     No   \n",
       "1             2  24.0    male  30.1             87       No         0     No   \n",
       "2             3   NaN    male  33.3             82      Yes         0     No   \n",
       "3             4   NaN    male  33.7             80       No         0     No   \n",
       "4             5   NaN    male  34.1            100       No         0     No   \n",
       "...         ...   ...     ...   ...            ...      ...       ...    ...   \n",
       "1335       1336  44.0  female  35.5             88      Yes         0    Yes   \n",
       "1336       1337  59.0  female  38.1            120       No         1    Yes   \n",
       "1337       1338  30.0    male  34.5             91      Yes         3    Yes   \n",
       "1338       1339  37.0    male  30.4            106       No         0    Yes   \n",
       "1339       1340  30.0  female  47.4            101       No         0    Yes   \n",
       "\n",
       "         region     claim  \n",
       "0     southeast   1121.87  \n",
       "1     southeast   1131.51  \n",
       "2     southeast   1135.94  \n",
       "3     northwest   1136.40  \n",
       "4     northwest   1137.01  \n",
       "...         ...       ...  \n",
       "1335  northwest  55135.40  \n",
       "1336  northeast  58571.07  \n",
       "1337  northwest  60021.40  \n",
       "1338  southeast  62592.87  \n",
       "1339  southeast  63770.43  \n",
       "\n",
       "[1340 rows x 10 columns]"
      ]
     },
     "execution_count": 5,
     "metadata": {},
     "output_type": "execute_result"
    }
   ],
   "source": [
    "\n",
    "df"
   ]
  },
  {
   "cell_type": "markdown",
   "id": "0a02404b",
   "metadata": {},
   "source": [
    "## Business problem\n",
    "Insurance is a contract, represented by a policy, in which they receive financial protection or reimbursement against losses from an insurance company. \n",
    "The goal here is to predict the claim amount which will be given to policy holder"
   ]
  },
  {
   "cell_type": "markdown",
   "id": "2f097687",
   "metadata": {},
   "source": [
    "### Need for the Study"
   ]
  },
  {
   "cell_type": "markdown",
   "id": "4e186946",
   "metadata": {},
   "source": [
    " The need of this study is to find the major factors that contribute to the medical claims that includes age, BMI, smoking etc.\n",
    "Factors like old age, smoking, BP usually indicate what person's health is like.These seem relevant in predicting claim.\n",
    "So, Insurer provider looks at these few attritutes to estimate the appropriate claim.\n",
    "\n"
   ]
  },
  {
   "cell_type": "markdown",
   "id": "1d7305c9",
   "metadata": {},
   "source": [
    "### Questions\n",
    "1.What Proportion of people have normal BMI.\n",
    "\n",
    "2.Whether there are patients with under-18.5 BMI.\n",
    "\n",
    "3.GENDER proportion.\n",
    "\n",
    "4.Proportion of people with BP >120.\n",
    "\n",
    "5.What Proportion of people are diabetic.\n",
    "\n",
    "6.What proprtion of people smoke.\n",
    "\n",
    "7.REGION wise proportion of people."
   ]
  },
  {
   "cell_type": "markdown",
   "id": "7958a962",
   "metadata": {},
   "source": [
    "### Evaluation Criteria Selection\n"
   ]
  },
  {
   "cell_type": "markdown",
   "id": "7d43e8e5",
   "metadata": {},
   "source": [
    "Evaluation criteria for claim is dediced by the attributes present in the dataset.\n",
    "\n",
    "1.A normal blood pressure level is less than 120/80 mmHg.\n",
    "ideal blood pressure is considered to be between 90/60mmHg and 120/80mmHg. high blood pressure is considered to be 140/90mmHg or higher. low blood pressure is considered to be 90/60mmHg or lower.\n",
    "\n",
    "2.BMI in the range 18.5—24.9 is considered healthy.Below 18.5 is considered underweight and 25 to 29.9 is considered to be overweight and 30 to 39.9 is considered to as obese"
   ]
  },
  {
   "cell_type": "markdown",
   "id": "1d6de890",
   "metadata": {},
   "source": [
    "### Relevance ,Quality  of data"
   ]
  },
  {
   "cell_type": "markdown",
   "id": "5ab76a54",
   "metadata": {},
   "source": [
    "Factors like old age, smoking, BP usually indicate what person's health is like.These seems relevant in predicting claim.\n",
    "There could be other attributes too which can be responsible for predicting claim amount from the provided data"
   ]
  },
  {
   "cell_type": "code",
   "execution_count": 6,
   "id": "f32c4c4d",
   "metadata": {
    "scrolled": false
   },
   "outputs": [
    {
     "name": "stdout",
     "output_type": "stream",
     "text": [
      "PatientID        0\n",
      "age              5\n",
      "gender           0\n",
      "bmi              0\n",
      "bloodpressure    0\n",
      "diabetic         0\n",
      "children         0\n",
      "smoker           0\n",
      "region           3\n",
      "claim            0\n",
      "dtype: int64\n"
     ]
    }
   ],
   "source": [
    "#checking for null values\n",
    "print(pd.isnull(df).sum())"
   ]
  },
  {
   "cell_type": "markdown",
   "id": "4eb8b0ba",
   "metadata": {},
   "source": [
    "From above dervived data, we can see that there are 5 null values in age attribute and 3 null values present in Region attribute"
   ]
  },
  {
   "cell_type": "code",
   "execution_count": 7,
   "id": "937e0fa4",
   "metadata": {},
   "outputs": [
    {
     "data": {
      "text/html": [
       "<div>\n",
       "<style scoped>\n",
       "    .dataframe tbody tr th:only-of-type {\n",
       "        vertical-align: middle;\n",
       "    }\n",
       "\n",
       "    .dataframe tbody tr th {\n",
       "        vertical-align: top;\n",
       "    }\n",
       "\n",
       "    .dataframe thead th {\n",
       "        text-align: right;\n",
       "    }\n",
       "</style>\n",
       "<table border=\"1\" class=\"dataframe\">\n",
       "  <thead>\n",
       "    <tr style=\"text-align: right;\">\n",
       "      <th></th>\n",
       "      <th>PatientID</th>\n",
       "      <th>age</th>\n",
       "      <th>bmi</th>\n",
       "      <th>bloodpressure</th>\n",
       "      <th>children</th>\n",
       "      <th>claim</th>\n",
       "    </tr>\n",
       "  </thead>\n",
       "  <tbody>\n",
       "    <tr>\n",
       "      <th>count</th>\n",
       "      <td>1340.000000</td>\n",
       "      <td>1335.000000</td>\n",
       "      <td>1340.000000</td>\n",
       "      <td>1340.000000</td>\n",
       "      <td>1340.000000</td>\n",
       "      <td>1340.000000</td>\n",
       "    </tr>\n",
       "    <tr>\n",
       "      <th>mean</th>\n",
       "      <td>670.500000</td>\n",
       "      <td>38.078652</td>\n",
       "      <td>30.668955</td>\n",
       "      <td>94.157463</td>\n",
       "      <td>1.093284</td>\n",
       "      <td>13252.745642</td>\n",
       "    </tr>\n",
       "    <tr>\n",
       "      <th>std</th>\n",
       "      <td>386.968991</td>\n",
       "      <td>11.102924</td>\n",
       "      <td>6.106735</td>\n",
       "      <td>11.434712</td>\n",
       "      <td>1.205334</td>\n",
       "      <td>12109.609288</td>\n",
       "    </tr>\n",
       "    <tr>\n",
       "      <th>min</th>\n",
       "      <td>1.000000</td>\n",
       "      <td>18.000000</td>\n",
       "      <td>16.000000</td>\n",
       "      <td>80.000000</td>\n",
       "      <td>0.000000</td>\n",
       "      <td>1121.870000</td>\n",
       "    </tr>\n",
       "    <tr>\n",
       "      <th>25%</th>\n",
       "      <td>335.750000</td>\n",
       "      <td>29.000000</td>\n",
       "      <td>26.275000</td>\n",
       "      <td>86.000000</td>\n",
       "      <td>0.000000</td>\n",
       "      <td>4719.685000</td>\n",
       "    </tr>\n",
       "    <tr>\n",
       "      <th>50%</th>\n",
       "      <td>670.500000</td>\n",
       "      <td>38.000000</td>\n",
       "      <td>30.400000</td>\n",
       "      <td>92.000000</td>\n",
       "      <td>1.000000</td>\n",
       "      <td>9369.615000</td>\n",
       "    </tr>\n",
       "    <tr>\n",
       "      <th>75%</th>\n",
       "      <td>1005.250000</td>\n",
       "      <td>47.000000</td>\n",
       "      <td>34.700000</td>\n",
       "      <td>99.000000</td>\n",
       "      <td>2.000000</td>\n",
       "      <td>16604.305000</td>\n",
       "    </tr>\n",
       "    <tr>\n",
       "      <th>max</th>\n",
       "      <td>1340.000000</td>\n",
       "      <td>60.000000</td>\n",
       "      <td>53.100000</td>\n",
       "      <td>140.000000</td>\n",
       "      <td>5.000000</td>\n",
       "      <td>63770.430000</td>\n",
       "    </tr>\n",
       "  </tbody>\n",
       "</table>\n",
       "</div>"
      ],
      "text/plain": [
       "         PatientID          age          bmi  bloodpressure     children  \\\n",
       "count  1340.000000  1335.000000  1340.000000    1340.000000  1340.000000   \n",
       "mean    670.500000    38.078652    30.668955      94.157463     1.093284   \n",
       "std     386.968991    11.102924     6.106735      11.434712     1.205334   \n",
       "min       1.000000    18.000000    16.000000      80.000000     0.000000   \n",
       "25%     335.750000    29.000000    26.275000      86.000000     0.000000   \n",
       "50%     670.500000    38.000000    30.400000      92.000000     1.000000   \n",
       "75%    1005.250000    47.000000    34.700000      99.000000     2.000000   \n",
       "max    1340.000000    60.000000    53.100000     140.000000     5.000000   \n",
       "\n",
       "              claim  \n",
       "count   1340.000000  \n",
       "mean   13252.745642  \n",
       "std    12109.609288  \n",
       "min     1121.870000  \n",
       "25%     4719.685000  \n",
       "50%     9369.615000  \n",
       "75%    16604.305000  \n",
       "max    63770.430000  "
      ]
     },
     "execution_count": 7,
     "metadata": {},
     "output_type": "execute_result"
    }
   ],
   "source": [
    "df.describe()"
   ]
  },
  {
   "cell_type": "markdown",
   "id": "b7e4742c",
   "metadata": {},
   "source": [
    "####  PatientID\n",
    "The total number of Patients are 1340\n",
    "\n",
    "#### Age\n",
    "The average age is 38.\n",
    "The age ranges from 18-60\n",
    "\n",
    "#### BMI\n",
    "Average BMI is 30.\n",
    "The BMI range is from 16-53\n",
    "\n",
    "#### BP\n",
    "Average BP is 94.\n",
    "It ranges from 80 to 140\n",
    "\n",
    "#### Children\n",
    "They have 1 child on an average.\n",
    "The age ranges of children are from 0-5\n",
    "\n",
    "#### Claim\n",
    "Maximum claimed amount is 63770.\n",
    "Minimum claimed amount is 1121.\n",
    "Average claimed amount is 13252"
   ]
  },
  {
   "cell_type": "code",
   "execution_count": 8,
   "id": "cb4ee6dc",
   "metadata": {},
   "outputs": [
    {
     "data": {
      "text/html": [
       "<div>\n",
       "<style scoped>\n",
       "    .dataframe tbody tr th:only-of-type {\n",
       "        vertical-align: middle;\n",
       "    }\n",
       "\n",
       "    .dataframe tbody tr th {\n",
       "        vertical-align: top;\n",
       "    }\n",
       "\n",
       "    .dataframe thead th {\n",
       "        text-align: right;\n",
       "    }\n",
       "</style>\n",
       "<table border=\"1\" class=\"dataframe\">\n",
       "  <thead>\n",
       "    <tr style=\"text-align: right;\">\n",
       "      <th></th>\n",
       "      <th>PatientID</th>\n",
       "      <th>age</th>\n",
       "      <th>gender</th>\n",
       "      <th>bmi</th>\n",
       "      <th>bloodpressure</th>\n",
       "      <th>diabetic</th>\n",
       "      <th>children</th>\n",
       "      <th>smoker</th>\n",
       "      <th>region</th>\n",
       "      <th>claim</th>\n",
       "    </tr>\n",
       "  </thead>\n",
       "  <tbody>\n",
       "    <tr>\n",
       "      <th>0</th>\n",
       "      <td>1</td>\n",
       "      <td>39.0</td>\n",
       "      <td>male</td>\n",
       "      <td>23.2</td>\n",
       "      <td>91</td>\n",
       "      <td>Yes</td>\n",
       "      <td>0</td>\n",
       "      <td>No</td>\n",
       "      <td>southeast</td>\n",
       "      <td>1121.87</td>\n",
       "    </tr>\n",
       "    <tr>\n",
       "      <th>1</th>\n",
       "      <td>2</td>\n",
       "      <td>24.0</td>\n",
       "      <td>male</td>\n",
       "      <td>30.1</td>\n",
       "      <td>87</td>\n",
       "      <td>No</td>\n",
       "      <td>0</td>\n",
       "      <td>No</td>\n",
       "      <td>southeast</td>\n",
       "      <td>1131.51</td>\n",
       "    </tr>\n",
       "    <tr>\n",
       "      <th>2</th>\n",
       "      <td>3</td>\n",
       "      <td>43.0</td>\n",
       "      <td>male</td>\n",
       "      <td>33.3</td>\n",
       "      <td>82</td>\n",
       "      <td>Yes</td>\n",
       "      <td>0</td>\n",
       "      <td>No</td>\n",
       "      <td>southeast</td>\n",
       "      <td>1135.94</td>\n",
       "    </tr>\n",
       "    <tr>\n",
       "      <th>3</th>\n",
       "      <td>4</td>\n",
       "      <td>43.0</td>\n",
       "      <td>male</td>\n",
       "      <td>33.7</td>\n",
       "      <td>80</td>\n",
       "      <td>No</td>\n",
       "      <td>0</td>\n",
       "      <td>No</td>\n",
       "      <td>northwest</td>\n",
       "      <td>1136.40</td>\n",
       "    </tr>\n",
       "    <tr>\n",
       "      <th>4</th>\n",
       "      <td>5</td>\n",
       "      <td>43.0</td>\n",
       "      <td>male</td>\n",
       "      <td>34.1</td>\n",
       "      <td>100</td>\n",
       "      <td>No</td>\n",
       "      <td>0</td>\n",
       "      <td>No</td>\n",
       "      <td>northwest</td>\n",
       "      <td>1137.01</td>\n",
       "    </tr>\n",
       "    <tr>\n",
       "      <th>...</th>\n",
       "      <td>...</td>\n",
       "      <td>...</td>\n",
       "      <td>...</td>\n",
       "      <td>...</td>\n",
       "      <td>...</td>\n",
       "      <td>...</td>\n",
       "      <td>...</td>\n",
       "      <td>...</td>\n",
       "      <td>...</td>\n",
       "      <td>...</td>\n",
       "    </tr>\n",
       "    <tr>\n",
       "      <th>1335</th>\n",
       "      <td>1336</td>\n",
       "      <td>44.0</td>\n",
       "      <td>female</td>\n",
       "      <td>35.5</td>\n",
       "      <td>88</td>\n",
       "      <td>Yes</td>\n",
       "      <td>0</td>\n",
       "      <td>Yes</td>\n",
       "      <td>northwest</td>\n",
       "      <td>55135.40</td>\n",
       "    </tr>\n",
       "    <tr>\n",
       "      <th>1336</th>\n",
       "      <td>1337</td>\n",
       "      <td>59.0</td>\n",
       "      <td>female</td>\n",
       "      <td>38.1</td>\n",
       "      <td>120</td>\n",
       "      <td>No</td>\n",
       "      <td>1</td>\n",
       "      <td>Yes</td>\n",
       "      <td>northeast</td>\n",
       "      <td>58571.07</td>\n",
       "    </tr>\n",
       "    <tr>\n",
       "      <th>1337</th>\n",
       "      <td>1338</td>\n",
       "      <td>30.0</td>\n",
       "      <td>male</td>\n",
       "      <td>34.5</td>\n",
       "      <td>91</td>\n",
       "      <td>Yes</td>\n",
       "      <td>3</td>\n",
       "      <td>Yes</td>\n",
       "      <td>northwest</td>\n",
       "      <td>60021.40</td>\n",
       "    </tr>\n",
       "    <tr>\n",
       "      <th>1338</th>\n",
       "      <td>1339</td>\n",
       "      <td>37.0</td>\n",
       "      <td>male</td>\n",
       "      <td>30.4</td>\n",
       "      <td>106</td>\n",
       "      <td>No</td>\n",
       "      <td>0</td>\n",
       "      <td>Yes</td>\n",
       "      <td>southeast</td>\n",
       "      <td>62592.87</td>\n",
       "    </tr>\n",
       "    <tr>\n",
       "      <th>1339</th>\n",
       "      <td>1340</td>\n",
       "      <td>30.0</td>\n",
       "      <td>female</td>\n",
       "      <td>47.4</td>\n",
       "      <td>101</td>\n",
       "      <td>No</td>\n",
       "      <td>0</td>\n",
       "      <td>Yes</td>\n",
       "      <td>southeast</td>\n",
       "      <td>63770.43</td>\n",
       "    </tr>\n",
       "  </tbody>\n",
       "</table>\n",
       "<p>1340 rows × 10 columns</p>\n",
       "</div>"
      ],
      "text/plain": [
       "      PatientID   age  gender   bmi  bloodpressure diabetic  children smoker  \\\n",
       "0             1  39.0    male  23.2             91      Yes         0     No   \n",
       "1             2  24.0    male  30.1             87       No         0     No   \n",
       "2             3  43.0    male  33.3             82      Yes         0     No   \n",
       "3             4  43.0    male  33.7             80       No         0     No   \n",
       "4             5  43.0    male  34.1            100       No         0     No   \n",
       "...         ...   ...     ...   ...            ...      ...       ...    ...   \n",
       "1335       1336  44.0  female  35.5             88      Yes         0    Yes   \n",
       "1336       1337  59.0  female  38.1            120       No         1    Yes   \n",
       "1337       1338  30.0    male  34.5             91      Yes         3    Yes   \n",
       "1338       1339  37.0    male  30.4            106       No         0    Yes   \n",
       "1339       1340  30.0  female  47.4            101       No         0    Yes   \n",
       "\n",
       "         region     claim  \n",
       "0     southeast   1121.87  \n",
       "1     southeast   1131.51  \n",
       "2     southeast   1135.94  \n",
       "3     northwest   1136.40  \n",
       "4     northwest   1137.01  \n",
       "...         ...       ...  \n",
       "1335  northwest  55135.40  \n",
       "1336  northeast  58571.07  \n",
       "1337  northwest  60021.40  \n",
       "1338  southeast  62592.87  \n",
       "1339  southeast  63770.43  \n",
       "\n",
       "[1340 rows x 10 columns]"
      ]
     },
     "execution_count": 8,
     "metadata": {},
     "output_type": "execute_result"
    }
   ],
   "source": [
    "df.age=df.age.fillna(df.age.mode()[0])\n",
    "df.region=df.region.fillna(df.region.mode()[0])\n",
    "df"
   ]
  },
  {
   "cell_type": "code",
   "execution_count": null,
   "id": "c077cba6",
   "metadata": {},
   "outputs": [],
   "source": []
  },
  {
   "cell_type": "code",
   "execution_count": 9,
   "id": "7ae2352f",
   "metadata": {},
   "outputs": [],
   "source": [
    "df_nm_features = df.select_dtypes(exclude='object')  #this variable will have all the numerical variable\n",
    "df_ct_features = df.select_dtypes(include='object')  #this one will have all the categorical"
   ]
  },
  {
   "cell_type": "code",
   "execution_count": 10,
   "id": "4cb0c623",
   "metadata": {},
   "outputs": [
    {
     "data": {
      "text/html": [
       "<div>\n",
       "<style scoped>\n",
       "    .dataframe tbody tr th:only-of-type {\n",
       "        vertical-align: middle;\n",
       "    }\n",
       "\n",
       "    .dataframe tbody tr th {\n",
       "        vertical-align: top;\n",
       "    }\n",
       "\n",
       "    .dataframe thead th {\n",
       "        text-align: right;\n",
       "    }\n",
       "</style>\n",
       "<table border=\"1\" class=\"dataframe\">\n",
       "  <thead>\n",
       "    <tr style=\"text-align: right;\">\n",
       "      <th></th>\n",
       "      <th>PatientID</th>\n",
       "      <th>age</th>\n",
       "      <th>bmi</th>\n",
       "      <th>bloodpressure</th>\n",
       "      <th>children</th>\n",
       "      <th>claim</th>\n",
       "    </tr>\n",
       "  </thead>\n",
       "  <tbody>\n",
       "    <tr>\n",
       "      <th>0</th>\n",
       "      <td>1</td>\n",
       "      <td>39.0</td>\n",
       "      <td>23.2</td>\n",
       "      <td>91</td>\n",
       "      <td>0</td>\n",
       "      <td>1121.87</td>\n",
       "    </tr>\n",
       "    <tr>\n",
       "      <th>1</th>\n",
       "      <td>2</td>\n",
       "      <td>24.0</td>\n",
       "      <td>30.1</td>\n",
       "      <td>87</td>\n",
       "      <td>0</td>\n",
       "      <td>1131.51</td>\n",
       "    </tr>\n",
       "    <tr>\n",
       "      <th>2</th>\n",
       "      <td>3</td>\n",
       "      <td>43.0</td>\n",
       "      <td>33.3</td>\n",
       "      <td>82</td>\n",
       "      <td>0</td>\n",
       "      <td>1135.94</td>\n",
       "    </tr>\n",
       "    <tr>\n",
       "      <th>3</th>\n",
       "      <td>4</td>\n",
       "      <td>43.0</td>\n",
       "      <td>33.7</td>\n",
       "      <td>80</td>\n",
       "      <td>0</td>\n",
       "      <td>1136.40</td>\n",
       "    </tr>\n",
       "    <tr>\n",
       "      <th>4</th>\n",
       "      <td>5</td>\n",
       "      <td>43.0</td>\n",
       "      <td>34.1</td>\n",
       "      <td>100</td>\n",
       "      <td>0</td>\n",
       "      <td>1137.01</td>\n",
       "    </tr>\n",
       "    <tr>\n",
       "      <th>...</th>\n",
       "      <td>...</td>\n",
       "      <td>...</td>\n",
       "      <td>...</td>\n",
       "      <td>...</td>\n",
       "      <td>...</td>\n",
       "      <td>...</td>\n",
       "    </tr>\n",
       "    <tr>\n",
       "      <th>1335</th>\n",
       "      <td>1336</td>\n",
       "      <td>44.0</td>\n",
       "      <td>35.5</td>\n",
       "      <td>88</td>\n",
       "      <td>0</td>\n",
       "      <td>55135.40</td>\n",
       "    </tr>\n",
       "    <tr>\n",
       "      <th>1336</th>\n",
       "      <td>1337</td>\n",
       "      <td>59.0</td>\n",
       "      <td>38.1</td>\n",
       "      <td>120</td>\n",
       "      <td>1</td>\n",
       "      <td>58571.07</td>\n",
       "    </tr>\n",
       "    <tr>\n",
       "      <th>1337</th>\n",
       "      <td>1338</td>\n",
       "      <td>30.0</td>\n",
       "      <td>34.5</td>\n",
       "      <td>91</td>\n",
       "      <td>3</td>\n",
       "      <td>60021.40</td>\n",
       "    </tr>\n",
       "    <tr>\n",
       "      <th>1338</th>\n",
       "      <td>1339</td>\n",
       "      <td>37.0</td>\n",
       "      <td>30.4</td>\n",
       "      <td>106</td>\n",
       "      <td>0</td>\n",
       "      <td>62592.87</td>\n",
       "    </tr>\n",
       "    <tr>\n",
       "      <th>1339</th>\n",
       "      <td>1340</td>\n",
       "      <td>30.0</td>\n",
       "      <td>47.4</td>\n",
       "      <td>101</td>\n",
       "      <td>0</td>\n",
       "      <td>63770.43</td>\n",
       "    </tr>\n",
       "  </tbody>\n",
       "</table>\n",
       "<p>1340 rows × 6 columns</p>\n",
       "</div>"
      ],
      "text/plain": [
       "      PatientID   age   bmi  bloodpressure  children     claim\n",
       "0             1  39.0  23.2             91         0   1121.87\n",
       "1             2  24.0  30.1             87         0   1131.51\n",
       "2             3  43.0  33.3             82         0   1135.94\n",
       "3             4  43.0  33.7             80         0   1136.40\n",
       "4             5  43.0  34.1            100         0   1137.01\n",
       "...         ...   ...   ...            ...       ...       ...\n",
       "1335       1336  44.0  35.5             88         0  55135.40\n",
       "1336       1337  59.0  38.1            120         1  58571.07\n",
       "1337       1338  30.0  34.5             91         3  60021.40\n",
       "1338       1339  37.0  30.4            106         0  62592.87\n",
       "1339       1340  30.0  47.4            101         0  63770.43\n",
       "\n",
       "[1340 rows x 6 columns]"
      ]
     },
     "execution_count": 10,
     "metadata": {},
     "output_type": "execute_result"
    }
   ],
   "source": [
    "df_nm_features"
   ]
  },
  {
   "cell_type": "code",
   "execution_count": 11,
   "id": "7b690492",
   "metadata": {},
   "outputs": [
    {
     "data": {
      "text/html": [
       "<div>\n",
       "<style scoped>\n",
       "    .dataframe tbody tr th:only-of-type {\n",
       "        vertical-align: middle;\n",
       "    }\n",
       "\n",
       "    .dataframe tbody tr th {\n",
       "        vertical-align: top;\n",
       "    }\n",
       "\n",
       "    .dataframe thead th {\n",
       "        text-align: right;\n",
       "    }\n",
       "</style>\n",
       "<table border=\"1\" class=\"dataframe\">\n",
       "  <thead>\n",
       "    <tr style=\"text-align: right;\">\n",
       "      <th></th>\n",
       "      <th>gender</th>\n",
       "      <th>diabetic</th>\n",
       "      <th>smoker</th>\n",
       "      <th>region</th>\n",
       "    </tr>\n",
       "  </thead>\n",
       "  <tbody>\n",
       "    <tr>\n",
       "      <th>0</th>\n",
       "      <td>male</td>\n",
       "      <td>Yes</td>\n",
       "      <td>No</td>\n",
       "      <td>southeast</td>\n",
       "    </tr>\n",
       "    <tr>\n",
       "      <th>1</th>\n",
       "      <td>male</td>\n",
       "      <td>No</td>\n",
       "      <td>No</td>\n",
       "      <td>southeast</td>\n",
       "    </tr>\n",
       "    <tr>\n",
       "      <th>2</th>\n",
       "      <td>male</td>\n",
       "      <td>Yes</td>\n",
       "      <td>No</td>\n",
       "      <td>southeast</td>\n",
       "    </tr>\n",
       "    <tr>\n",
       "      <th>3</th>\n",
       "      <td>male</td>\n",
       "      <td>No</td>\n",
       "      <td>No</td>\n",
       "      <td>northwest</td>\n",
       "    </tr>\n",
       "    <tr>\n",
       "      <th>4</th>\n",
       "      <td>male</td>\n",
       "      <td>No</td>\n",
       "      <td>No</td>\n",
       "      <td>northwest</td>\n",
       "    </tr>\n",
       "    <tr>\n",
       "      <th>...</th>\n",
       "      <td>...</td>\n",
       "      <td>...</td>\n",
       "      <td>...</td>\n",
       "      <td>...</td>\n",
       "    </tr>\n",
       "    <tr>\n",
       "      <th>1335</th>\n",
       "      <td>female</td>\n",
       "      <td>Yes</td>\n",
       "      <td>Yes</td>\n",
       "      <td>northwest</td>\n",
       "    </tr>\n",
       "    <tr>\n",
       "      <th>1336</th>\n",
       "      <td>female</td>\n",
       "      <td>No</td>\n",
       "      <td>Yes</td>\n",
       "      <td>northeast</td>\n",
       "    </tr>\n",
       "    <tr>\n",
       "      <th>1337</th>\n",
       "      <td>male</td>\n",
       "      <td>Yes</td>\n",
       "      <td>Yes</td>\n",
       "      <td>northwest</td>\n",
       "    </tr>\n",
       "    <tr>\n",
       "      <th>1338</th>\n",
       "      <td>male</td>\n",
       "      <td>No</td>\n",
       "      <td>Yes</td>\n",
       "      <td>southeast</td>\n",
       "    </tr>\n",
       "    <tr>\n",
       "      <th>1339</th>\n",
       "      <td>female</td>\n",
       "      <td>No</td>\n",
       "      <td>Yes</td>\n",
       "      <td>southeast</td>\n",
       "    </tr>\n",
       "  </tbody>\n",
       "</table>\n",
       "<p>1340 rows × 4 columns</p>\n",
       "</div>"
      ],
      "text/plain": [
       "      gender diabetic smoker     region\n",
       "0       male      Yes     No  southeast\n",
       "1       male       No     No  southeast\n",
       "2       male      Yes     No  southeast\n",
       "3       male       No     No  northwest\n",
       "4       male       No     No  northwest\n",
       "...      ...      ...    ...        ...\n",
       "1335  female      Yes    Yes  northwest\n",
       "1336  female       No    Yes  northeast\n",
       "1337    male      Yes    Yes  northwest\n",
       "1338    male       No    Yes  southeast\n",
       "1339  female       No    Yes  southeast\n",
       "\n",
       "[1340 rows x 4 columns]"
      ]
     },
     "execution_count": 11,
     "metadata": {},
     "output_type": "execute_result"
    }
   ],
   "source": [
    "df_ct_features "
   ]
  },
  {
   "cell_type": "markdown",
   "id": "23de8297",
   "metadata": {},
   "source": [
    "#### Numerical Attritube\n"
   ]
  },
  {
   "cell_type": "code",
   "execution_count": 12,
   "id": "9cbeb7aa",
   "metadata": {},
   "outputs": [
    {
     "data": {
      "image/png": "[encoded data removed]",
      "text/plain": [
       "<Figure size 432x288 with 1 Axes>"
      ]
     },
     "metadata": {
      "needs_background": "light"
     },
     "output_type": "display_data"
    },
    {
     "data": {
      "image/png": "[encoded data removed]",
      "text/plain": [
       "<Figure size 432x288 with 1 Axes>"
      ]
     },
     "metadata": {
      "needs_background": "light"
     },
     "output_type": "display_data"
    },
    {
     "data": {
      "image/png": "[encoded data removed]",
      "text/plain": [
       "<Figure size 432x288 with 1 Axes>"
      ]
     },
     "metadata": {
      "needs_background": "light"
     },
     "output_type": "display_data"
    },
    {
     "data": {
      "image/png": "[encoded data removed]",
      "text/plain": [
       "<Figure size 432x288 with 1 Axes>"
      ]
     },
     "metadata": {
      "needs_background": "light"
     },
     "output_type": "display_data"
    },
    {
     "data": {
      "image/png": "[encoded data removed]",
      "text/plain": [
       "<Figure size 432x288 with 1 Axes>"
      ]
     },
     "metadata": {
      "needs_background": "light"
     },
     "output_type": "display_data"
    }
   ],
   "source": [
    "#checking distribution of variables.\n",
    "for i in df_nm_features:\n",
    "    if len(df_nm_features[i].unique())>6:\n",
    "        \n",
    "        plt.hist(df_nm_features[i],color=\"orange\",edgecolor=\"black\") #making histogram of orange colour and black edge\n",
    "        plt.xlabel(i)                         #labelling x axis\n",
    "        plt.ylabel('Frequency ')\n",
    "        plt.title('Histogram of attribute '+i,fontsize=11)\n",
    "        plt.show()"
   ]
  },
  {
   "cell_type": "markdown",
   "id": "3633eecf",
   "metadata": {},
   "source": [
    "Observations from Histogram:\n",
    "\n",
    "Age is somewhat normally distributed.\n",
    "\n",
    "BMI is slightly right skewed.\n",
    "\n",
    "BP and Claim are right skewed.\n"
   ]
  },
  {
   "cell_type": "code",
   "execution_count": 13,
   "id": "4ddc6139",
   "metadata": {},
   "outputs": [
    {
     "data": {
      "text/plain": [
       "<AxesSubplot:xlabel='age'>"
      ]
     },
     "execution_count": 13,
     "metadata": {},
     "output_type": "execute_result"
    },
    {
     "data": {
      "image/png": "[encoded data removed]",
      "text/plain": [
       "<Figure size 432x288 with 1 Axes>"
      ]
     },
     "metadata": {
      "needs_background": "light"
     },
     "output_type": "display_data"
    }
   ],
   "source": [
    "sns.distplot(df.age)\n"
   ]
  },
  {
   "cell_type": "code",
   "execution_count": 14,
   "id": "f66820ee",
   "metadata": {
    "scrolled": true
   },
   "outputs": [
    {
     "data": {
      "image/png": "[encoded data removed]",
      "text/plain": [
       "<Figure size 432x288 with 1 Axes>"
      ]
     },
     "metadata": {
      "needs_background": "light"
     },
     "output_type": "display_data"
    },
    {
     "data": {
      "image/png": "[encoded data removed]",
      "text/plain": [
       "<Figure size 432x288 with 1 Axes>"
      ]
     },
     "metadata": {
      "needs_background": "light"
     },
     "output_type": "display_data"
    },
    {
     "data": {
      "image/png": "[encoded data removed]",
      "text/plain": [
       "<Figure size 432x288 with 1 Axes>"
      ]
     },
     "metadata": {
      "needs_background": "light"
     },
     "output_type": "display_data"
    },
    {
     "data": {
      "image/png": "[encoded data removed]",
      "text/plain": [
       "<Figure size 432x288 with 1 Axes>"
      ]
     },
     "metadata": {
      "needs_background": "light"
     },
     "output_type": "display_data"
    },
    {
     "data": {
      "image/png": "[encoded data removed]",
      "text/plain": [
       "<Figure size 432x288 with 1 Axes>"
      ]
     },
     "metadata": {
      "needs_background": "light"
     },
     "output_type": "display_data"
    }
   ],
   "source": [
    "for i in df_nm_features:\n",
    "    if len(df_nm_features[i].unique())>6:\n",
    "          \n",
    "        sns.boxplot(x=df_nm_features[i],color='red') #making boxplot of blue colour\n",
    "        plt.xlabel(i,fontsize=11)\n",
    "        plt.title('Boxplot of attribute '+i,fontsize=11) # string concatenation in naming\n",
    "        plt.show()"
   ]
  },
  {
   "cell_type": "markdown",
   "id": "07712424",
   "metadata": {},
   "source": [
    "#### Observations from Boxplot:\n",
    "\n",
    "We can see lot of outliers being present for Claims, Bloodpressure and few for BMI.\n",
    "\n",
    "55 people have blood pressure above 120.\n",
    "\n",
    "133 people claimed more than 35000.\n",
    "\n",
    "16 people have BMI more than 46."
   ]
  },
  {
   "cell_type": "code",
   "execution_count": 15,
   "id": "c50deb6b",
   "metadata": {},
   "outputs": [
    {
     "data": {
      "text/plain": [
       "False    1285\n",
       "True       55\n",
       "Name: bloodpressure, dtype: int64"
      ]
     },
     "execution_count": 15,
     "metadata": {},
     "output_type": "execute_result"
    }
   ],
   "source": [
    "(df['bloodpressure']>120 ).value_counts()"
   ]
  },
  {
   "cell_type": "code",
   "execution_count": 16,
   "id": "e73deef6",
   "metadata": {
    "scrolled": true
   },
   "outputs": [
    {
     "data": {
      "image/png": "[encoded data removed]",
      "text/plain": [
       "<Figure size 432x288 with 1 Axes>"
      ]
     },
     "metadata": {},
     "output_type": "display_data"
    }
   ],
   "source": [
    "#what proportion of people have bmi above 120\n",
    "(df['bloodpressure']>120 ).value_counts().plot(kind=\"pie\", autopct=\"%.2f\")\n",
    "plt.show()"
   ]
  },
  {
   "cell_type": "code",
   "execution_count": 17,
   "id": "5f0fd1a5",
   "metadata": {},
   "outputs": [
    {
     "data": {
      "text/plain": [
       "False    1207\n",
       "True      133\n",
       "Name: claim, dtype: int64"
      ]
     },
     "execution_count": 17,
     "metadata": {},
     "output_type": "execute_result"
    }
   ],
   "source": [
    "(df['claim']>35000).value_counts()"
   ]
  },
  {
   "cell_type": "code",
   "execution_count": 18,
   "id": "a3147336",
   "metadata": {},
   "outputs": [
    {
     "data": {
      "text/plain": [
       "False    1324\n",
       "True       16\n",
       "Name: bmi, dtype: int64"
      ]
     },
     "execution_count": 18,
     "metadata": {},
     "output_type": "execute_result"
    }
   ],
   "source": [
    "(df['bmi']>46).value_counts()"
   ]
  },
  {
   "cell_type": "markdown",
   "id": "2c814781",
   "metadata": {},
   "source": [
    "#### Observations on numerical data:\n",
    "\n",
    "Age:\n",
    "Age does not seem to be normally distrubted\n",
    "\n",
    "BMI:\n",
    "Outliers are present for BMI\n",
    "As we know, BMI in the range 18.5—24.9 is considered healthy. 30 to 39.9 is considered to as obese.\n",
    "Under our observation we can see that, 16 people have BMI more than 46, which is obese.\n",
    "\n",
    "Blood Pressure:\n",
    "We observe outliers even in Bloodpressure.\n",
    "55 people have blood pressure above 120, who are considered to be higher\n",
    "BP is right skewed\n",
    "\n",
    "Claims:\n",
    "This is also right skewed and outliers are present even here\n",
    "133 people claimed more than 35000\n"
   ]
  },
  {
   "cell_type": "markdown",
   "id": "9912416b",
   "metadata": {},
   "source": []
  },
  {
   "cell_type": "markdown",
   "id": "b90051c1",
   "metadata": {},
   "source": [
    "#### Categorical Analysis:\n"
   ]
  },
  {
   "cell_type": "code",
   "execution_count": 19,
   "id": "d5d5a931",
   "metadata": {},
   "outputs": [
    {
     "data": {
      "image/png": "[encoded data removed]",
      "text/plain": [
       "<Figure size 432x288 with 1 Axes>"
      ]
     },
     "metadata": {},
     "output_type": "display_data"
    }
   ],
   "source": [
    "#gender proportion\n",
    "df['gender'].value_counts().plot(kind=\"pie\", autopct=\"%.2f\")\n",
    "plt.show()"
   ]
  },
  {
   "cell_type": "code",
   "execution_count": 20,
   "id": "f2ba742e",
   "metadata": {},
   "outputs": [
    {
     "data": {
      "text/plain": [
       "0    576\n",
       "1    324\n",
       "2    240\n",
       "3    157\n",
       "4     25\n",
       "5     18\n",
       "Name: children, dtype: int64"
      ]
     },
     "execution_count": 20,
     "metadata": {},
     "output_type": "execute_result"
    }
   ],
   "source": [
    "#no of childern patient has\n",
    "df['children'].value_counts()"
   ]
  },
  {
   "cell_type": "code",
   "execution_count": 21,
   "id": "ea7fbc05",
   "metadata": {},
   "outputs": [
    {
     "data": {
      "image/png": "[encoded data removed]",
      "text/plain": [
       "<Figure size 432x288 with 1 Axes>"
      ]
     },
     "metadata": {},
     "output_type": "display_data"
    }
   ],
   "source": [
    "#region wise distribution of patients\n",
    "df['region'].value_counts().plot(kind=\"pie\", autopct=\"%.2f\")\n",
    "plt.show()"
   ]
  },
  {
   "cell_type": "code",
   "execution_count": 22,
   "id": "93a3c1a7",
   "metadata": {},
   "outputs": [
    {
     "data": {
      "image/png": "[encoded data removed]",
      "text/plain": [
       "<Figure size 432x288 with 1 Axes>"
      ]
     },
     "metadata": {},
     "output_type": "display_data"
    }
   ],
   "source": [
    "#diabetic proportion\n",
    "df['diabetic'].value_counts().plot(kind=\"pie\", autopct=\"%.2f\")\n",
    "plt.show()"
   ]
  },
  {
   "cell_type": "code",
   "execution_count": 23,
   "id": "b2947f04",
   "metadata": {},
   "outputs": [
    {
     "data": {
      "image/png": "[encoded data removed]",
      "text/plain": [
       "<Figure size 432x288 with 1 Axes>"
      ]
     },
     "metadata": {},
     "output_type": "display_data"
    }
   ],
   "source": [
    "#what proportion of patients smoke\n",
    "df['smoker'].value_counts().plot(kind=\"pie\", autopct=\"%.2f\")\n",
    "plt.show()"
   ]
  },
  {
   "cell_type": "markdown",
   "id": "a0b66ae8",
   "metadata": {},
   "source": [
    "#### Analysis\n",
    "Gender:\n",
    "Male and Female ratio is almost equal\n",
    "\n",
    "Children:\n",
    "People having no children are the maximum\n",
    "People with 5 children are the least around 18\n",
    "\n",
    "Diabetic:\n",
    "Number of Diabetic patients and non diabetic patients are almost equal\n",
    "\n",
    "Smoker:\n",
    "The ratio between non smokers and smokers is almost 1:4\n",
    "The non smokers are least in number around 20"
   ]
  },
  {
   "cell_type": "code",
   "execution_count": 24,
   "id": "b37ee54d",
   "metadata": {},
   "outputs": [
    {
     "data": {
      "text/html": [
       "<style type=\"text/css\">\n",
       "#T_58a7f_row0_col0, #T_58a7f_row1_col1, #T_58a7f_row2_col2, #T_58a7f_row3_col3, #T_58a7f_row4_col4, #T_58a7f_row5_col5 {\n",
       "  background-color: #023858;\n",
       "  color: #f1f1f1;\n",
       "}\n",
       "#T_58a7f_row0_col1 {\n",
       "  background-color: #f8f1f8;\n",
       "  color: #000000;\n",
       "}\n",
       "#T_58a7f_row0_col2 {\n",
       "  background-color: #e7e3f0;\n",
       "  color: #000000;\n",
       "}\n",
       "#T_58a7f_row0_col3 {\n",
       "  background-color: #7bacd1;\n",
       "  color: #f1f1f1;\n",
       "}\n",
       "#T_58a7f_row0_col4 {\n",
       "  background-color: #e6e2ef;\n",
       "  color: #000000;\n",
       "}\n",
       "#T_58a7f_row0_col5, #T_58a7f_row5_col0 {\n",
       "  background-color: #04588a;\n",
       "  color: #f1f1f1;\n",
       "}\n",
       "#T_58a7f_row1_col0, #T_58a7f_row1_col2, #T_58a7f_row1_col3, #T_58a7f_row1_col5, #T_58a7f_row3_col1, #T_58a7f_row3_col4 {\n",
       "  background-color: #fff7fb;\n",
       "  color: #000000;\n",
       "}\n",
       "#T_58a7f_row1_col4 {\n",
       "  background-color: #fef6fb;\n",
       "  color: #000000;\n",
       "}\n",
       "#T_58a7f_row2_col0 {\n",
       "  background-color: #ede7f2;\n",
       "  color: #000000;\n",
       "}\n",
       "#T_58a7f_row2_col1 {\n",
       "  background-color: #fdf5fa;\n",
       "  color: #000000;\n",
       "}\n",
       "#T_58a7f_row2_col3 {\n",
       "  background-color: #dddbec;\n",
       "  color: #000000;\n",
       "}\n",
       "#T_58a7f_row2_col4 {\n",
       "  background-color: #f9f2f8;\n",
       "  color: #000000;\n",
       "}\n",
       "#T_58a7f_row2_col5 {\n",
       "  background-color: #d7d6e9;\n",
       "  color: #000000;\n",
       "}\n",
       "#T_58a7f_row3_col0 {\n",
       "  background-color: #86b0d3;\n",
       "  color: #000000;\n",
       "}\n",
       "#T_58a7f_row3_col2 {\n",
       "  background-color: #e0deed;\n",
       "  color: #000000;\n",
       "}\n",
       "#T_58a7f_row3_col5 {\n",
       "  background-color: #5ea0ca;\n",
       "  color: #f1f1f1;\n",
       "}\n",
       "#T_58a7f_row4_col0 {\n",
       "  background-color: #e9e5f1;\n",
       "  color: #000000;\n",
       "}\n",
       "#T_58a7f_row4_col1 {\n",
       "  background-color: #faf3f9;\n",
       "  color: #000000;\n",
       "}\n",
       "#T_58a7f_row4_col2 {\n",
       "  background-color: #f7f0f7;\n",
       "  color: #000000;\n",
       "}\n",
       "#T_58a7f_row4_col3, #T_58a7f_row5_col1 {\n",
       "  background-color: #fbf3f9;\n",
       "  color: #000000;\n",
       "}\n",
       "#T_58a7f_row4_col5 {\n",
       "  background-color: #f1ebf4;\n",
       "  color: #000000;\n",
       "}\n",
       "#T_58a7f_row5_col2 {\n",
       "  background-color: #d5d5e8;\n",
       "  color: #000000;\n",
       "}\n",
       "#T_58a7f_row5_col3 {\n",
       "  background-color: #589ec8;\n",
       "  color: #f1f1f1;\n",
       "}\n",
       "#T_58a7f_row5_col4 {\n",
       "  background-color: #f0eaf4;\n",
       "  color: #000000;\n",
       "}\n",
       "</style>\n",
       "<table id=\"T_58a7f_\">\n",
       "  <thead>\n",
       "    <tr>\n",
       "      <th class=\"blank level0\" >&nbsp;</th>\n",
       "      <th class=\"col_heading level0 col0\" >PatientID</th>\n",
       "      <th class=\"col_heading level0 col1\" >age</th>\n",
       "      <th class=\"col_heading level0 col2\" >bmi</th>\n",
       "      <th class=\"col_heading level0 col3\" >bloodpressure</th>\n",
       "      <th class=\"col_heading level0 col4\" >children</th>\n",
       "      <th class=\"col_heading level0 col5\" >claim</th>\n",
       "    </tr>\n",
       "  </thead>\n",
       "  <tbody>\n",
       "    <tr>\n",
       "      <th id=\"T_58a7f_level0_row0\" class=\"row_heading level0 row0\" >PatientID</th>\n",
       "      <td id=\"T_58a7f_row0_col0\" class=\"data row0 col0\" >1.000000</td>\n",
       "      <td id=\"T_58a7f_row0_col1\" class=\"data row0 col1\" >-0.010298</td>\n",
       "      <td id=\"T_58a7f_row0_col2\" class=\"data row0 col2\" >0.115129</td>\n",
       "      <td id=\"T_58a7f_row0_col3\" class=\"data row0 col3\" >0.450602</td>\n",
       "      <td id=\"T_58a7f_row0_col4\" class=\"data row0 col4\" >0.128104</td>\n",
       "      <td id=\"T_58a7f_row0_col5\" class=\"data row0 col5\" >0.879268</td>\n",
       "    </tr>\n",
       "    <tr>\n",
       "      <th id=\"T_58a7f_level0_row1\" class=\"row_heading level0 row1\" >age</th>\n",
       "      <td id=\"T_58a7f_row1_col0\" class=\"data row1 col0\" >-0.010298</td>\n",
       "      <td id=\"T_58a7f_row1_col1\" class=\"data row1 col1\" >1.000000</td>\n",
       "      <td id=\"T_58a7f_row1_col2\" class=\"data row1 col2\" >-0.040847</td>\n",
       "      <td id=\"T_58a7f_row1_col3\" class=\"data row1 col3\" >-0.061001</td>\n",
       "      <td id=\"T_58a7f_row1_col4\" class=\"data row1 col4\" >-0.027002</td>\n",
       "      <td id=\"T_58a7f_row1_col5\" class=\"data row1 col5\" >-0.029505</td>\n",
       "    </tr>\n",
       "    <tr>\n",
       "      <th id=\"T_58a7f_level0_row2\" class=\"row_heading level0 row2\" >bmi</th>\n",
       "      <td id=\"T_58a7f_row2_col0\" class=\"data row2 col0\" >0.115129</td>\n",
       "      <td id=\"T_58a7f_row2_col1\" class=\"data row2 col1\" >-0.040847</td>\n",
       "      <td id=\"T_58a7f_row2_col2\" class=\"data row2 col2\" >1.000000</td>\n",
       "      <td id=\"T_58a7f_row2_col3\" class=\"data row2 col3\" >0.143544</td>\n",
       "      <td id=\"T_58a7f_row2_col4\" class=\"data row2 col4\" >0.012092</td>\n",
       "      <td id=\"T_58a7f_row2_col5\" class=\"data row2 col5\" >0.197401</td>\n",
       "    </tr>\n",
       "    <tr>\n",
       "      <th id=\"T_58a7f_level0_row3\" class=\"row_heading level0 row3\" >bloodpressure</th>\n",
       "      <td id=\"T_58a7f_row3_col0\" class=\"data row3 col0\" >0.450602</td>\n",
       "      <td id=\"T_58a7f_row3_col1\" class=\"data row3 col1\" >-0.061001</td>\n",
       "      <td id=\"T_58a7f_row3_col2\" class=\"data row3 col2\" >0.143544</td>\n",
       "      <td id=\"T_58a7f_row3_col3\" class=\"data row3 col3\" >1.000000</td>\n",
       "      <td id=\"T_58a7f_row3_col4\" class=\"data row3 col4\" >-0.031682</td>\n",
       "      <td id=\"T_58a7f_row3_col5\" class=\"data row3 col5\" >0.531341</td>\n",
       "    </tr>\n",
       "    <tr>\n",
       "      <th id=\"T_58a7f_level0_row4\" class=\"row_heading level0 row4\" >children</th>\n",
       "      <td id=\"T_58a7f_row4_col0\" class=\"data row4 col0\" >0.128104</td>\n",
       "      <td id=\"T_58a7f_row4_col1\" class=\"data row4 col1\" >-0.027002</td>\n",
       "      <td id=\"T_58a7f_row4_col2\" class=\"data row4 col2\" >0.012092</td>\n",
       "      <td id=\"T_58a7f_row4_col3\" class=\"data row4 col3\" >-0.031682</td>\n",
       "      <td id=\"T_58a7f_row4_col4\" class=\"data row4 col4\" >1.000000</td>\n",
       "      <td id=\"T_58a7f_row4_col5\" class=\"data row4 col5\" >0.069233</td>\n",
       "    </tr>\n",
       "    <tr>\n",
       "      <th id=\"T_58a7f_level0_row5\" class=\"row_heading level0 row5\" >claim</th>\n",
       "      <td id=\"T_58a7f_row5_col0\" class=\"data row5 col0\" >0.879268</td>\n",
       "      <td id=\"T_58a7f_row5_col1\" class=\"data row5 col1\" >-0.029505</td>\n",
       "      <td id=\"T_58a7f_row5_col2\" class=\"data row5 col2\" >0.197401</td>\n",
       "      <td id=\"T_58a7f_row5_col3\" class=\"data row5 col3\" >0.531341</td>\n",
       "      <td id=\"T_58a7f_row5_col4\" class=\"data row5 col4\" >0.069233</td>\n",
       "      <td id=\"T_58a7f_row5_col5\" class=\"data row5 col5\" >1.000000</td>\n",
       "    </tr>\n",
       "  </tbody>\n",
       "</table>\n"
      ],
      "text/plain": [
       "<pandas.io.formats.style.Styler at 0x23eac556430>"
      ]
     },
     "execution_count": 24,
     "metadata": {},
     "output_type": "execute_result"
    }
   ],
   "source": [
    "#correlation matrix  (with colur gradient)\n",
    "corr=df.corr()\n",
    "corr.style.background_gradient()"
   ]
  },
  {
   "cell_type": "markdown",
   "id": "e85e8036",
   "metadata": {},
   "source": [
    "bp has correlation of .53 with claim\n"
   ]
  },
  {
   "cell_type": "markdown",
   "id": "130894e5",
   "metadata": {},
   "source": [
    "### QUESTIONS FOR BIVARIATE ANALYSIS"
   ]
  },
  {
   "cell_type": "markdown",
   "id": "685705da",
   "metadata": {},
   "source": [
    "\n",
    "\n",
    "1. Do smokers claim more compared to non smokers?\n",
    "2. Whether having more childern increases your BP?\n",
    "3. Do diabetic people have more BMI?\n",
    "4. Majority smokers are from which region?\n",
    "5. Which age group smokes more?\n",
    "6. Which age group claims more?"
   ]
  },
  {
   "cell_type": "code",
   "execution_count": 25,
   "id": "fd7bc6b7",
   "metadata": {},
   "outputs": [],
   "source": [
    "#sns.distplot(df['claim'],color='Purple',norm_hist=True,label=\"Claim\")"
   ]
  },
  {
   "cell_type": "code",
   "execution_count": 26,
   "id": "efee3a68",
   "metadata": {
    "scrolled": true
   },
   "outputs": [
    {
     "data": {
      "image/png": "[encoded data removed]",
      "text/plain": [
       "<Figure size 576x432 with 1 Axes>"
      ]
     },
     "metadata": {
      "needs_background": "light"
     },
     "output_type": "display_data"
    }
   ],
   "source": [
    "#1 Smoker vs claim\n",
    "df.boxplot(column=\"claim\",notch=True,\n",
    "            by=\"smoker\",\n",
    "             grid=False,\n",
    "            figsize=(8,6),\n",
    "            rot=45)\n",
    "                    #to plot a horizontal boxplot\n",
    "plt.xlabel(\"Smoker\", fontsize=12)\n",
    "plt.ylabel('Claim',fontsize =12)\n",
    "plt.title(\"side by side boxplot\", fontsize=16)\n",
    "\n",
    "plt.show()"
   ]
  },
  {
   "cell_type": "markdown",
   "id": "0f404709",
   "metadata": {},
   "source": [
    "AVG amount claimed by smoker is more than non smokers"
   ]
  },
  {
   "cell_type": "code",
   "execution_count": 27,
   "id": "abeaaea0",
   "metadata": {},
   "outputs": [
    {
     "data": {
      "image/png": "[encoded data removed]",
      "text/plain": [
       "<Figure size 576x432 with 1 Axes>"
      ]
     },
     "metadata": {
      "needs_background": "light"
     },
     "output_type": "display_data"
    }
   ],
   "source": [
    "#2 BP VS CHILDERN\n",
    "df.boxplot(column=\"bloodpressure\",notch=True,\n",
    "            by=\"children\",\n",
    "             grid=False,\n",
    "            figsize=(8,6),\n",
    "            rot=45)\n",
    "                    #to plot a horizontal boxplot\n",
    "plt.xlabel(\"children\", fontsize=12)\n",
    "plt.ylabel('BP',fontsize =12)\n",
    "\n",
    "\n",
    "plt.show()\n"
   ]
  },
  {
   "cell_type": "code",
   "execution_count": 28,
   "id": "ef8858bf",
   "metadata": {},
   "outputs": [
    {
     "data": {
      "text/plain": [
       "48"
      ]
     },
     "execution_count": 28,
     "metadata": {},
     "output_type": "execute_result"
    }
   ],
   "source": [
    "#claim above 30000 and bp above 120.\n",
    "((df['children']<3 ) & (df['bloodpressure']>120 )).sum()"
   ]
  },
  {
   "cell_type": "markdown",
   "id": "57540948",
   "metadata": {},
   "source": [
    "there are 48 outliers for patients with childern <3, but meadian seems to hover around 90 for irespective of no of childern."
   ]
  },
  {
   "cell_type": "code",
   "execution_count": 29,
   "id": "68046f17",
   "metadata": {},
   "outputs": [
    {
     "data": {
      "image/png": "[encoded data removed]",
      "text/plain": [
       "<Figure size 576x432 with 1 Axes>"
      ]
     },
     "metadata": {
      "needs_background": "light"
     },
     "output_type": "display_data"
    }
   ],
   "source": [
    "#3 BMI VS DIABETIC\n",
    "df.boxplot(column=\"bmi\",notch=True,\n",
    "            by=\"diabetic\",\n",
    "             grid=False,\n",
    "            figsize=(8,6),\n",
    "            rot=45)\n",
    "                    #to plot a horizontal boxplot\n",
    "plt.xlabel(\"diabetic\", fontsize=12)\n",
    "plt.ylabel('bmi',fontsize =12)\n",
    "\n",
    "\n",
    "plt.show()\n"
   ]
  },
  {
   "cell_type": "markdown",
   "id": "df99985d",
   "metadata": {},
   "source": [
    "BMI does not looks determinental for diabeties "
   ]
  },
  {
   "cell_type": "code",
   "execution_count": 30,
   "id": "6d023978",
   "metadata": {},
   "outputs": [
    {
     "data": {
      "text/html": [
       "<div>\n",
       "<style scoped>\n",
       "    .dataframe tbody tr th:only-of-type {\n",
       "        vertical-align: middle;\n",
       "    }\n",
       "\n",
       "    .dataframe tbody tr th {\n",
       "        vertical-align: top;\n",
       "    }\n",
       "\n",
       "    .dataframe thead th {\n",
       "        text-align: right;\n",
       "    }\n",
       "</style>\n",
       "<table border=\"1\" class=\"dataframe\">\n",
       "  <thead>\n",
       "    <tr style=\"text-align: right;\">\n",
       "      <th>region</th>\n",
       "      <th>northeast</th>\n",
       "      <th>northwest</th>\n",
       "      <th>southeast</th>\n",
       "      <th>southwest</th>\n",
       "    </tr>\n",
       "    <tr>\n",
       "      <th>smoker</th>\n",
       "      <th></th>\n",
       "      <th></th>\n",
       "      <th></th>\n",
       "      <th></th>\n",
       "    </tr>\n",
       "  </thead>\n",
       "  <tbody>\n",
       "    <tr>\n",
       "      <th>No</th>\n",
       "      <td>12.238806</td>\n",
       "      <td>21.716418</td>\n",
       "      <td>26.492537</td>\n",
       "      <td>19.104478</td>\n",
       "    </tr>\n",
       "    <tr>\n",
       "      <th>Yes</th>\n",
       "      <td>5.000000</td>\n",
       "      <td>4.328358</td>\n",
       "      <td>6.791045</td>\n",
       "      <td>4.328358</td>\n",
       "    </tr>\n",
       "  </tbody>\n",
       "</table>\n",
       "</div>"
      ],
      "text/plain": [
       "region  northeast  northwest  southeast  southwest\n",
       "smoker                                            \n",
       "No      12.238806  21.716418  26.492537  19.104478\n",
       "Yes      5.000000   4.328358   6.791045   4.328358"
      ]
     },
     "execution_count": 30,
     "metadata": {},
     "output_type": "execute_result"
    }
   ],
   "source": [
    "#4 REGIONWISE SMOKERS\n",
    "table=pd.crosstab(df.smoker,columns=df.region)\n",
    "(table/1340)*100"
   ]
  },
  {
   "cell_type": "markdown",
   "id": "84b26ade",
   "metadata": {},
   "source": [
    "majority of smokers are from southeast 26%"
   ]
  },
  {
   "cell_type": "code",
   "execution_count": 31,
   "id": "8a8c1b0a",
   "metadata": {},
   "outputs": [
    {
     "data": {
      "text/html": [
       "<div>\n",
       "<style scoped>\n",
       "    .dataframe tbody tr th:only-of-type {\n",
       "        vertical-align: middle;\n",
       "    }\n",
       "\n",
       "    .dataframe tbody tr th {\n",
       "        vertical-align: top;\n",
       "    }\n",
       "\n",
       "    .dataframe thead th {\n",
       "        text-align: right;\n",
       "    }\n",
       "</style>\n",
       "<table border=\"1\" class=\"dataframe\">\n",
       "  <thead>\n",
       "    <tr style=\"text-align: right;\">\n",
       "      <th>smoker</th>\n",
       "      <th>No</th>\n",
       "      <th>Yes</th>\n",
       "    </tr>\n",
       "    <tr>\n",
       "      <th>gender</th>\n",
       "      <th></th>\n",
       "      <th></th>\n",
       "    </tr>\n",
       "  </thead>\n",
       "  <tbody>\n",
       "    <tr>\n",
       "      <th>female</th>\n",
       "      <td>40.820896</td>\n",
       "      <td>8.582090</td>\n",
       "    </tr>\n",
       "    <tr>\n",
       "      <th>male</th>\n",
       "      <td>38.731343</td>\n",
       "      <td>11.865672</td>\n",
       "    </tr>\n",
       "  </tbody>\n",
       "</table>\n",
       "</div>"
      ],
      "text/plain": [
       "smoker         No        Yes\n",
       "gender                      \n",
       "female  40.820896   8.582090\n",
       "male    38.731343  11.865672"
      ]
     },
     "execution_count": 31,
     "metadata": {},
     "output_type": "execute_result"
    }
   ],
   "source": [
    "#smokers vs gender\n",
    "table=pd.crosstab(df.gender,columns=df.smoker)\n",
    "(table/1340)*100"
   ]
  },
  {
   "cell_type": "code",
   "execution_count": 32,
   "id": "bc5adc7c",
   "metadata": {},
   "outputs": [
    {
     "data": {
      "image/png": "[encoded data removed]",
      "text/plain": [
       "<Figure size 576x432 with 1 Axes>"
      ]
     },
     "metadata": {
      "needs_background": "light"
     },
     "output_type": "display_data"
    }
   ],
   "source": [
    "#5 Smoker vs Age\n",
    "df.boxplot(column=\"age\",notch=True,\n",
    "            by=\"smoker\",\n",
    "             grid=False,\n",
    "            figsize=(8,6),\n",
    "            rot=45)\n",
    "                    #to plot a horizontal boxplot\n",
    "plt.xlabel(\"smoker\", fontsize=12)\n",
    "plt.ylabel('age',fontsize =12)\n",
    "\n",
    "plt.show()\n"
   ]
  },
  {
   "cell_type": "code",
   "execution_count": 33,
   "id": "212cc706",
   "metadata": {},
   "outputs": [
    {
     "data": {
      "image/png": "[encoded data removed]",
      "text/plain": [
       "<Figure size 360x360 with 1 Axes>"
      ]
     },
     "metadata": {
      "needs_background": "light"
     },
     "output_type": "display_data"
    },
    {
     "data": {
      "image/png": "[encoded data removed]",
      "text/plain": [
       "<Figure size 360x360 with 1 Axes>"
      ]
     },
     "metadata": {
      "needs_background": "light"
     },
     "output_type": "display_data"
    },
    {
     "data": {
      "image/png": "[encoded data removed]",
      "text/plain": [
       "<Figure size 360x360 with 1 Axes>"
      ]
     },
     "metadata": {
      "needs_background": "light"
     },
     "output_type": "display_data"
    }
   ],
   "source": [
    "#age vs claim\n",
    "col=['age','bmi','bloodpressure']\n",
    "\n",
    "for i in col:\n",
    "    df.plot(kind=\"scatter\",                                    \n",
    "                        x=i,y='claim',                                 \n",
    "                        color='red',                                      \n",
    "                        figsize=(5,5)) \n",
    "    plt.ylabel(\"claim\", fontsize=12)\n",
    "    plt.xlabel(i,fontsize =12)\n",
    "    plt.title(\"scatterplot\", fontsize=16)\n",
    "    plt.show()"
   ]
  },
  {
   "cell_type": "markdown",
   "id": "925ba523",
   "metadata": {},
   "source": [
    "#above question was not helping with anything, so we did further analysis\n",
    "\n",
    "Q. how many patients with bp above 120 claimed above 30000\n"
   ]
  },
  {
   "cell_type": "code",
   "execution_count": null,
   "id": "386c1ad4",
   "metadata": {},
   "outputs": [],
   "source": []
  },
  {
   "cell_type": "code",
   "execution_count": 34,
   "id": "5f8f44c9",
   "metadata": {},
   "outputs": [
    {
     "data": {
      "text/plain": [
       "45"
      ]
     },
     "execution_count": 34,
     "metadata": {},
     "output_type": "execute_result"
    }
   ],
   "source": [
    "#claim above 30000 and bp above 120.\n",
    "((df['claim']>30000 ) & (df['bloodpressure']>120 )).sum()"
   ]
  },
  {
   "cell_type": "code",
   "execution_count": 35,
   "id": "1f83fd2e",
   "metadata": {},
   "outputs": [
    {
     "data": {
      "text/plain": [
       "113"
      ]
     },
     "execution_count": 35,
     "metadata": {},
     "output_type": "execute_result"
    }
   ],
   "source": [
    "#claim above 30000 and bp below 120.\n",
    "((df['claim']>30000 ) & (df['bloodpressure']<120 )).sum()"
   ]
  },
  {
   "cell_type": "markdown",
   "id": "f3c069f9",
   "metadata": {},
   "source": [
    "#CLAIM ABOVE 13252 AND AGE ABOVE 38."
   ]
  },
  {
   "cell_type": "code",
   "execution_count": 36,
   "id": "64f8da7a",
   "metadata": {},
   "outputs": [
    {
     "data": {
      "text/plain": [
       "201"
      ]
     },
     "execution_count": 36,
     "metadata": {},
     "output_type": "execute_result"
    }
   ],
   "source": [
    "#6) claim above 13252 and age above 120.\n",
    "((df['claim']>13252 ) & (df['age']>38 )).sum()\n"
   ]
  },
  {
   "cell_type": "code",
   "execution_count": 37,
   "id": "decc7955",
   "metadata": {},
   "outputs": [
    {
     "data": {
      "text/plain": [
       "208"
      ]
     },
     "execution_count": 37,
     "metadata": {},
     "output_type": "execute_result"
    }
   ],
   "source": [
    "#6) claim above 1352 and age above 120.\n",
    "((df['claim']>13252 ) & (df['age']<38 )).sum()\n",
    "#people above the age of 38 and below are claiming almost the same amount"
   ]
  },
  {
   "cell_type": "code",
   "execution_count": 38,
   "id": "2c668a7e",
   "metadata": {},
   "outputs": [
    {
     "name": "stderr",
     "output_type": "stream",
     "text": [
      "C:\\Users\\hp\\anaconda3\\lib\\site-packages\\seaborn\\axisgrid.py:230: UserWarning: The `size` paramter has been renamed to `height`; please update your code.\n",
      "  warnings.warn(msg, UserWarning)\n"
     ]
    },
    {
     "data": {
      "image/png": "[encoded data removed]",
      "text/plain": [
       "<Figure size 556x504 with 1 Axes>"
      ]
     },
     "metadata": {
      "needs_background": "light"
     },
     "output_type": "display_data"
    }
   ],
   "source": [
    "#age vs claim vs smokers\n",
    "(sns\n",
    " .FacetGrid(df, hue='smoker', size=7)\n",
    " .map(plt.scatter, 'age', 'claim')\n",
    " .add_legend()\n",
    " .set(\n",
    "    title='',\n",
    "    xlabel='Age',\n",
    "    ylabel='claim'\n",
    " ));"
   ]
  },
  {
   "cell_type": "markdown",
   "id": "46934355",
   "metadata": {},
   "source": [
    "smokers claim higher amounts across all age groups"
   ]
  },
  {
   "cell_type": "code",
   "execution_count": 39,
   "id": "eff25687",
   "metadata": {},
   "outputs": [
    {
     "data": {
      "image/png": "[encoded data removed]",
      "text/plain": [
       "<Figure size 556x504 with 1 Axes>"
      ]
     },
     "metadata": {
      "needs_background": "light"
     },
     "output_type": "display_data"
    }
   ],
   "source": [
    "#age vs claim vs smokers\n",
    "(sns\n",
    " .FacetGrid(df, hue='diabetic', size=7)\n",
    " .map(plt.scatter, 'age', 'claim')\n",
    " .add_legend()\n",
    " .set(\n",
    "    title='',\n",
    "    xlabel='Age',\n",
    "    ylabel='claim'\n",
    " ));"
   ]
  },
  {
   "cell_type": "markdown",
   "id": "3266f41f",
   "metadata": {},
   "source": [
    "unconclusive,nothing can be clearly said "
   ]
  },
  {
   "cell_type": "code",
   "execution_count": 40,
   "id": "72a21005",
   "metadata": {},
   "outputs": [
    {
     "data": {
      "image/png": "[encoded data removed]",
      "text/plain": [
       "<Figure size 556x504 with 1 Axes>"
      ]
     },
     "metadata": {
      "needs_background": "light"
     },
     "output_type": "display_data"
    }
   ],
   "source": [
    "#bmi vs claim vs smokers\n",
    "(sns\n",
    " .FacetGrid(df, hue='smoker', size=7)\n",
    " .map(plt.scatter, 'bmi', 'claim')\n",
    " .add_legend()\n",
    " .set(\n",
    "    title='',\n",
    "    xlabel='bmi',\n",
    "    ylabel='claim'\n",
    " ));"
   ]
  },
  {
   "cell_type": "markdown",
   "id": "2703c37f",
   "metadata": {},
   "source": [
    "smokers having bmi above 30 claim huge amounts"
   ]
  },
  {
   "cell_type": "code",
   "execution_count": 41,
   "id": "5cac5ca7",
   "metadata": {},
   "outputs": [
    {
     "data": {
      "image/png": "[encoded data removed]",
      "text/plain": [
       "<Figure size 556x504 with 1 Axes>"
      ]
     },
     "metadata": {
      "needs_background": "light"
     },
     "output_type": "display_data"
    }
   ],
   "source": [
    "#bmi vs claim vs diabetic\n",
    "(sns\n",
    " .FacetGrid(df, hue='diabetic', size=7)\n",
    " .map(plt.scatter, 'bmi', 'claim')\n",
    " .add_legend()\n",
    " .set(\n",
    "    title='',\n",
    "    xlabel='Age',\n",
    "    ylabel='claim'\n",
    " ));"
   ]
  },
  {
   "cell_type": "code",
   "execution_count": 42,
   "id": "fc68f87b",
   "metadata": {},
   "outputs": [
    {
     "data": {
      "image/png": "[encoded data removed]",
      "text/plain": [
       "<Figure size 556x504 with 1 Axes>"
      ]
     },
     "metadata": {
      "needs_background": "light"
     },
     "output_type": "display_data"
    }
   ],
   "source": [
    "#bmi vs claim vs smokers\n",
    "(sns\n",
    " .FacetGrid(df, hue='smoker', size=7)\n",
    " .map(plt.scatter, 'bloodpressure', 'claim')\n",
    " .add_legend()\n",
    " .set(\n",
    "    title='',\n",
    "    xlabel='bloodpressure',\n",
    "    ylabel='claim'\n",
    " ));"
   ]
  },
  {
   "cell_type": "markdown",
   "id": "65db3121",
   "metadata": {},
   "source": [
    "claims above 15000 are taken by smokers."
   ]
  },
  {
   "cell_type": "markdown",
   "id": "e9461273",
   "metadata": {},
   "source": [
    "### Feature Engineering"
   ]
  },
  {
   "cell_type": "code",
   "execution_count": 43,
   "id": "0ce85256",
   "metadata": {},
   "outputs": [
    {
     "data": {
      "text/plain": [
       "Index(['female', 'male'], dtype='object')"
      ]
     },
     "execution_count": 43,
     "metadata": {},
     "output_type": "execute_result"
    }
   ],
   "source": [
    "#Creating dummy variables for 'gender'\n",
    "dummies = pd.get_dummies(df.gender)\n",
    "dummies.columns"
   ]
  },
  {
   "cell_type": "code",
   "execution_count": 44,
   "id": "9817d97a",
   "metadata": {},
   "outputs": [],
   "source": [
    "df = pd.concat([df,dummies],axis= 'columns')"
   ]
  },
  {
   "cell_type": "code",
   "execution_count": 45,
   "id": "1f581ccb",
   "metadata": {},
   "outputs": [],
   "source": [
    "#Creating dummy variables for 'diabetic'\n",
    "dummies = pd.get_dummies(df.diabetic)\n",
    "dummies.columns\n",
    "df = pd.concat([df,dummies],axis= 'columns')"
   ]
  },
  {
   "cell_type": "code",
   "execution_count": 46,
   "id": "6c5e105c",
   "metadata": {},
   "outputs": [],
   "source": [
    "#Creating dummy variables for 'smoker'\n",
    "dummies = pd.get_dummies(df.smoker)\n",
    "dummies.columns\n",
    "df = pd.concat([df,dummies],axis= 'columns')"
   ]
  },
  {
   "cell_type": "code",
   "execution_count": 47,
   "id": "f0190624",
   "metadata": {},
   "outputs": [],
   "source": [
    "#Creating dummy variables for 'region'\n",
    "dummies = pd.get_dummies(df.region)\n",
    "dummies.columns\n",
    "df = pd.concat([df,dummies],axis= 'columns')"
   ]
  },
  {
   "cell_type": "code",
   "execution_count": 48,
   "id": "5340182f",
   "metadata": {},
   "outputs": [
    {
     "data": {
      "text/html": [
       "<div>\n",
       "<style scoped>\n",
       "    .dataframe tbody tr th:only-of-type {\n",
       "        vertical-align: middle;\n",
       "    }\n",
       "\n",
       "    .dataframe tbody tr th {\n",
       "        vertical-align: top;\n",
       "    }\n",
       "\n",
       "    .dataframe thead th {\n",
       "        text-align: right;\n",
       "    }\n",
       "</style>\n",
       "<table border=\"1\" class=\"dataframe\">\n",
       "  <thead>\n",
       "    <tr style=\"text-align: right;\">\n",
       "      <th></th>\n",
       "      <th>PatientID</th>\n",
       "      <th>age</th>\n",
       "      <th>gender</th>\n",
       "      <th>bmi</th>\n",
       "      <th>bloodpressure</th>\n",
       "      <th>diabetic</th>\n",
       "      <th>children</th>\n",
       "      <th>smoker</th>\n",
       "      <th>region</th>\n",
       "      <th>claim</th>\n",
       "      <th>female</th>\n",
       "      <th>male</th>\n",
       "      <th>No</th>\n",
       "      <th>Yes</th>\n",
       "      <th>No</th>\n",
       "      <th>Yes</th>\n",
       "      <th>northeast</th>\n",
       "      <th>northwest</th>\n",
       "      <th>southeast</th>\n",
       "      <th>southwest</th>\n",
       "    </tr>\n",
       "  </thead>\n",
       "  <tbody>\n",
       "    <tr>\n",
       "      <th>0</th>\n",
       "      <td>1</td>\n",
       "      <td>39.0</td>\n",
       "      <td>male</td>\n",
       "      <td>23.2</td>\n",
       "      <td>91</td>\n",
       "      <td>Yes</td>\n",
       "      <td>0</td>\n",
       "      <td>No</td>\n",
       "      <td>southeast</td>\n",
       "      <td>1121.87</td>\n",
       "      <td>0</td>\n",
       "      <td>1</td>\n",
       "      <td>0</td>\n",
       "      <td>1</td>\n",
       "      <td>1</td>\n",
       "      <td>0</td>\n",
       "      <td>0</td>\n",
       "      <td>0</td>\n",
       "      <td>1</td>\n",
       "      <td>0</td>\n",
       "    </tr>\n",
       "    <tr>\n",
       "      <th>1</th>\n",
       "      <td>2</td>\n",
       "      <td>24.0</td>\n",
       "      <td>male</td>\n",
       "      <td>30.1</td>\n",
       "      <td>87</td>\n",
       "      <td>No</td>\n",
       "      <td>0</td>\n",
       "      <td>No</td>\n",
       "      <td>southeast</td>\n",
       "      <td>1131.51</td>\n",
       "      <td>0</td>\n",
       "      <td>1</td>\n",
       "      <td>1</td>\n",
       "      <td>0</td>\n",
       "      <td>1</td>\n",
       "      <td>0</td>\n",
       "      <td>0</td>\n",
       "      <td>0</td>\n",
       "      <td>1</td>\n",
       "      <td>0</td>\n",
       "    </tr>\n",
       "    <tr>\n",
       "      <th>2</th>\n",
       "      <td>3</td>\n",
       "      <td>43.0</td>\n",
       "      <td>male</td>\n",
       "      <td>33.3</td>\n",
       "      <td>82</td>\n",
       "      <td>Yes</td>\n",
       "      <td>0</td>\n",
       "      <td>No</td>\n",
       "      <td>southeast</td>\n",
       "      <td>1135.94</td>\n",
       "      <td>0</td>\n",
       "      <td>1</td>\n",
       "      <td>0</td>\n",
       "      <td>1</td>\n",
       "      <td>1</td>\n",
       "      <td>0</td>\n",
       "      <td>0</td>\n",
       "      <td>0</td>\n",
       "      <td>1</td>\n",
       "      <td>0</td>\n",
       "    </tr>\n",
       "    <tr>\n",
       "      <th>3</th>\n",
       "      <td>4</td>\n",
       "      <td>43.0</td>\n",
       "      <td>male</td>\n",
       "      <td>33.7</td>\n",
       "      <td>80</td>\n",
       "      <td>No</td>\n",
       "      <td>0</td>\n",
       "      <td>No</td>\n",
       "      <td>northwest</td>\n",
       "      <td>1136.40</td>\n",
       "      <td>0</td>\n",
       "      <td>1</td>\n",
       "      <td>1</td>\n",
       "      <td>0</td>\n",
       "      <td>1</td>\n",
       "      <td>0</td>\n",
       "      <td>0</td>\n",
       "      <td>1</td>\n",
       "      <td>0</td>\n",
       "      <td>0</td>\n",
       "    </tr>\n",
       "    <tr>\n",
       "      <th>4</th>\n",
       "      <td>5</td>\n",
       "      <td>43.0</td>\n",
       "      <td>male</td>\n",
       "      <td>34.1</td>\n",
       "      <td>100</td>\n",
       "      <td>No</td>\n",
       "      <td>0</td>\n",
       "      <td>No</td>\n",
       "      <td>northwest</td>\n",
       "      <td>1137.01</td>\n",
       "      <td>0</td>\n",
       "      <td>1</td>\n",
       "      <td>1</td>\n",
       "      <td>0</td>\n",
       "      <td>1</td>\n",
       "      <td>0</td>\n",
       "      <td>0</td>\n",
       "      <td>1</td>\n",
       "      <td>0</td>\n",
       "      <td>0</td>\n",
       "    </tr>\n",
       "    <tr>\n",
       "      <th>...</th>\n",
       "      <td>...</td>\n",
       "      <td>...</td>\n",
       "      <td>...</td>\n",
       "      <td>...</td>\n",
       "      <td>...</td>\n",
       "      <td>...</td>\n",
       "      <td>...</td>\n",
       "      <td>...</td>\n",
       "      <td>...</td>\n",
       "      <td>...</td>\n",
       "      <td>...</td>\n",
       "      <td>...</td>\n",
       "      <td>...</td>\n",
       "      <td>...</td>\n",
       "      <td>...</td>\n",
       "      <td>...</td>\n",
       "      <td>...</td>\n",
       "      <td>...</td>\n",
       "      <td>...</td>\n",
       "      <td>...</td>\n",
       "    </tr>\n",
       "    <tr>\n",
       "      <th>1335</th>\n",
       "      <td>1336</td>\n",
       "      <td>44.0</td>\n",
       "      <td>female</td>\n",
       "      <td>35.5</td>\n",
       "      <td>88</td>\n",
       "      <td>Yes</td>\n",
       "      <td>0</td>\n",
       "      <td>Yes</td>\n",
       "      <td>northwest</td>\n",
       "      <td>55135.40</td>\n",
       "      <td>1</td>\n",
       "      <td>0</td>\n",
       "      <td>0</td>\n",
       "      <td>1</td>\n",
       "      <td>0</td>\n",
       "      <td>1</td>\n",
       "      <td>0</td>\n",
       "      <td>1</td>\n",
       "      <td>0</td>\n",
       "      <td>0</td>\n",
       "    </tr>\n",
       "    <tr>\n",
       "      <th>1336</th>\n",
       "      <td>1337</td>\n",
       "      <td>59.0</td>\n",
       "      <td>female</td>\n",
       "      <td>38.1</td>\n",
       "      <td>120</td>\n",
       "      <td>No</td>\n",
       "      <td>1</td>\n",
       "      <td>Yes</td>\n",
       "      <td>northeast</td>\n",
       "      <td>58571.07</td>\n",
       "      <td>1</td>\n",
       "      <td>0</td>\n",
       "      <td>1</td>\n",
       "      <td>0</td>\n",
       "      <td>0</td>\n",
       "      <td>1</td>\n",
       "      <td>1</td>\n",
       "      <td>0</td>\n",
       "      <td>0</td>\n",
       "      <td>0</td>\n",
       "    </tr>\n",
       "    <tr>\n",
       "      <th>1337</th>\n",
       "      <td>1338</td>\n",
       "      <td>30.0</td>\n",
       "      <td>male</td>\n",
       "      <td>34.5</td>\n",
       "      <td>91</td>\n",
       "      <td>Yes</td>\n",
       "      <td>3</td>\n",
       "      <td>Yes</td>\n",
       "      <td>northwest</td>\n",
       "      <td>60021.40</td>\n",
       "      <td>0</td>\n",
       "      <td>1</td>\n",
       "      <td>0</td>\n",
       "      <td>1</td>\n",
       "      <td>0</td>\n",
       "      <td>1</td>\n",
       "      <td>0</td>\n",
       "      <td>1</td>\n",
       "      <td>0</td>\n",
       "      <td>0</td>\n",
       "    </tr>\n",
       "    <tr>\n",
       "      <th>1338</th>\n",
       "      <td>1339</td>\n",
       "      <td>37.0</td>\n",
       "      <td>male</td>\n",
       "      <td>30.4</td>\n",
       "      <td>106</td>\n",
       "      <td>No</td>\n",
       "      <td>0</td>\n",
       "      <td>Yes</td>\n",
       "      <td>southeast</td>\n",
       "      <td>62592.87</td>\n",
       "      <td>0</td>\n",
       "      <td>1</td>\n",
       "      <td>1</td>\n",
       "      <td>0</td>\n",
       "      <td>0</td>\n",
       "      <td>1</td>\n",
       "      <td>0</td>\n",
       "      <td>0</td>\n",
       "      <td>1</td>\n",
       "      <td>0</td>\n",
       "    </tr>\n",
       "    <tr>\n",
       "      <th>1339</th>\n",
       "      <td>1340</td>\n",
       "      <td>30.0</td>\n",
       "      <td>female</td>\n",
       "      <td>47.4</td>\n",
       "      <td>101</td>\n",
       "      <td>No</td>\n",
       "      <td>0</td>\n",
       "      <td>Yes</td>\n",
       "      <td>southeast</td>\n",
       "      <td>63770.43</td>\n",
       "      <td>1</td>\n",
       "      <td>0</td>\n",
       "      <td>1</td>\n",
       "      <td>0</td>\n",
       "      <td>0</td>\n",
       "      <td>1</td>\n",
       "      <td>0</td>\n",
       "      <td>0</td>\n",
       "      <td>1</td>\n",
       "      <td>0</td>\n",
       "    </tr>\n",
       "  </tbody>\n",
       "</table>\n",
       "<p>1340 rows × 20 columns</p>\n",
       "</div>"
      ],
      "text/plain": [
       "      PatientID   age  gender   bmi  bloodpressure diabetic  children smoker  \\\n",
       "0             1  39.0    male  23.2             91      Yes         0     No   \n",
       "1             2  24.0    male  30.1             87       No         0     No   \n",
       "2             3  43.0    male  33.3             82      Yes         0     No   \n",
       "3             4  43.0    male  33.7             80       No         0     No   \n",
       "4             5  43.0    male  34.1            100       No         0     No   \n",
       "...         ...   ...     ...   ...            ...      ...       ...    ...   \n",
       "1335       1336  44.0  female  35.5             88      Yes         0    Yes   \n",
       "1336       1337  59.0  female  38.1            120       No         1    Yes   \n",
       "1337       1338  30.0    male  34.5             91      Yes         3    Yes   \n",
       "1338       1339  37.0    male  30.4            106       No         0    Yes   \n",
       "1339       1340  30.0  female  47.4            101       No         0    Yes   \n",
       "\n",
       "         region     claim  female  male  No  Yes  No  Yes  northeast  \\\n",
       "0     southeast   1121.87       0     1   0    1   1    0          0   \n",
       "1     southeast   1131.51       0     1   1    0   1    0          0   \n",
       "2     southeast   1135.94       0     1   0    1   1    0          0   \n",
       "3     northwest   1136.40       0     1   1    0   1    0          0   \n",
       "4     northwest   1137.01       0     1   1    0   1    0          0   \n",
       "...         ...       ...     ...   ...  ..  ...  ..  ...        ...   \n",
       "1335  northwest  55135.40       1     0   0    1   0    1          0   \n",
       "1336  northeast  58571.07       1     0   1    0   0    1          1   \n",
       "1337  northwest  60021.40       0     1   0    1   0    1          0   \n",
       "1338  southeast  62592.87       0     1   1    0   0    1          0   \n",
       "1339  southeast  63770.43       1     0   1    0   0    1          0   \n",
       "\n",
       "      northwest  southeast  southwest  \n",
       "0             0          1          0  \n",
       "1             0          1          0  \n",
       "2             0          1          0  \n",
       "3             1          0          0  \n",
       "4             1          0          0  \n",
       "...         ...        ...        ...  \n",
       "1335          1          0          0  \n",
       "1336          0          0          0  \n",
       "1337          1          0          0  \n",
       "1338          0          1          0  \n",
       "1339          0          1          0  \n",
       "\n",
       "[1340 rows x 20 columns]"
      ]
     },
     "execution_count": 48,
     "metadata": {},
     "output_type": "execute_result"
    }
   ],
   "source": [
    "df"
   ]
  },
  {
   "cell_type": "code",
   "execution_count": null,
   "id": "bf406afb",
   "metadata": {},
   "outputs": [],
   "source": []
  },
  {
   "cell_type": "code",
   "execution_count": null,
   "id": "ab4096fb",
   "metadata": {},
   "outputs": [],
   "source": []
  },
  {
   "cell_type": "markdown",
   "id": "93c3065c",
   "metadata": {},
   "source": [
    "### FITTING DECISION TREE"
   ]
  },
  {
   "cell_type": "code",
   "execution_count": 49,
   "id": "a8cb7519",
   "metadata": {},
   "outputs": [],
   "source": [
    "import matplotlib.pyplot as plt\n",
    "\n",
    "#For test-train split\n",
    "from sklearn.model_selection import train_test_split\n",
    "\n",
    "#For fitting regression tree\n",
    "from sklearn.tree import DecisionTreeRegressor\n",
    "\n",
    "#To create a confusion matrix\n",
    "from sklearn.metrics import confusion_matrix\n",
    "\n",
    "#For plotting a decision tree\n",
    "from sklearn import tree"
   ]
  },
  {
   "cell_type": "code",
   "execution_count": 50,
   "id": "a6a9ee59",
   "metadata": {},
   "outputs": [],
   "source": [
    "X = df.drop([\"PatientID\",\"gender\",\"diabetic\",\"smoker\",\"region\"], axis=1)\n",
    "y = df.claim"
   ]
  },
  {
   "cell_type": "code",
   "execution_count": 51,
   "id": "07c74671",
   "metadata": {},
   "outputs": [
    {
     "data": {
      "text/html": [
       "<div>\n",
       "<style scoped>\n",
       "    .dataframe tbody tr th:only-of-type {\n",
       "        vertical-align: middle;\n",
       "    }\n",
       "\n",
       "    .dataframe tbody tr th {\n",
       "        vertical-align: top;\n",
       "    }\n",
       "\n",
       "    .dataframe thead th {\n",
       "        text-align: right;\n",
       "    }\n",
       "</style>\n",
       "<table border=\"1\" class=\"dataframe\">\n",
       "  <thead>\n",
       "    <tr style=\"text-align: right;\">\n",
       "      <th></th>\n",
       "      <th>age</th>\n",
       "      <th>bmi</th>\n",
       "      <th>bloodpressure</th>\n",
       "      <th>children</th>\n",
       "      <th>claim</th>\n",
       "      <th>female</th>\n",
       "      <th>male</th>\n",
       "      <th>No</th>\n",
       "      <th>Yes</th>\n",
       "      <th>No</th>\n",
       "      <th>Yes</th>\n",
       "      <th>northeast</th>\n",
       "      <th>northwest</th>\n",
       "      <th>southeast</th>\n",
       "      <th>southwest</th>\n",
       "    </tr>\n",
       "  </thead>\n",
       "  <tbody>\n",
       "    <tr>\n",
       "      <th>0</th>\n",
       "      <td>39.0</td>\n",
       "      <td>23.2</td>\n",
       "      <td>91</td>\n",
       "      <td>0</td>\n",
       "      <td>1121.87</td>\n",
       "      <td>0</td>\n",
       "      <td>1</td>\n",
       "      <td>0</td>\n",
       "      <td>1</td>\n",
       "      <td>1</td>\n",
       "      <td>0</td>\n",
       "      <td>0</td>\n",
       "      <td>0</td>\n",
       "      <td>1</td>\n",
       "      <td>0</td>\n",
       "    </tr>\n",
       "    <tr>\n",
       "      <th>1</th>\n",
       "      <td>24.0</td>\n",
       "      <td>30.1</td>\n",
       "      <td>87</td>\n",
       "      <td>0</td>\n",
       "      <td>1131.51</td>\n",
       "      <td>0</td>\n",
       "      <td>1</td>\n",
       "      <td>1</td>\n",
       "      <td>0</td>\n",
       "      <td>1</td>\n",
       "      <td>0</td>\n",
       "      <td>0</td>\n",
       "      <td>0</td>\n",
       "      <td>1</td>\n",
       "      <td>0</td>\n",
       "    </tr>\n",
       "    <tr>\n",
       "      <th>2</th>\n",
       "      <td>43.0</td>\n",
       "      <td>33.3</td>\n",
       "      <td>82</td>\n",
       "      <td>0</td>\n",
       "      <td>1135.94</td>\n",
       "      <td>0</td>\n",
       "      <td>1</td>\n",
       "      <td>0</td>\n",
       "      <td>1</td>\n",
       "      <td>1</td>\n",
       "      <td>0</td>\n",
       "      <td>0</td>\n",
       "      <td>0</td>\n",
       "      <td>1</td>\n",
       "      <td>0</td>\n",
       "    </tr>\n",
       "    <tr>\n",
       "      <th>3</th>\n",
       "      <td>43.0</td>\n",
       "      <td>33.7</td>\n",
       "      <td>80</td>\n",
       "      <td>0</td>\n",
       "      <td>1136.40</td>\n",
       "      <td>0</td>\n",
       "      <td>1</td>\n",
       "      <td>1</td>\n",
       "      <td>0</td>\n",
       "      <td>1</td>\n",
       "      <td>0</td>\n",
       "      <td>0</td>\n",
       "      <td>1</td>\n",
       "      <td>0</td>\n",
       "      <td>0</td>\n",
       "    </tr>\n",
       "    <tr>\n",
       "      <th>4</th>\n",
       "      <td>43.0</td>\n",
       "      <td>34.1</td>\n",
       "      <td>100</td>\n",
       "      <td>0</td>\n",
       "      <td>1137.01</td>\n",
       "      <td>0</td>\n",
       "      <td>1</td>\n",
       "      <td>1</td>\n",
       "      <td>0</td>\n",
       "      <td>1</td>\n",
       "      <td>0</td>\n",
       "      <td>0</td>\n",
       "      <td>1</td>\n",
       "      <td>0</td>\n",
       "      <td>0</td>\n",
       "    </tr>\n",
       "    <tr>\n",
       "      <th>...</th>\n",
       "      <td>...</td>\n",
       "      <td>...</td>\n",
       "      <td>...</td>\n",
       "      <td>...</td>\n",
       "      <td>...</td>\n",
       "      <td>...</td>\n",
       "      <td>...</td>\n",
       "      <td>...</td>\n",
       "      <td>...</td>\n",
       "      <td>...</td>\n",
       "      <td>...</td>\n",
       "      <td>...</td>\n",
       "      <td>...</td>\n",
       "      <td>...</td>\n",
       "      <td>...</td>\n",
       "    </tr>\n",
       "    <tr>\n",
       "      <th>1335</th>\n",
       "      <td>44.0</td>\n",
       "      <td>35.5</td>\n",
       "      <td>88</td>\n",
       "      <td>0</td>\n",
       "      <td>55135.40</td>\n",
       "      <td>1</td>\n",
       "      <td>0</td>\n",
       "      <td>0</td>\n",
       "      <td>1</td>\n",
       "      <td>0</td>\n",
       "      <td>1</td>\n",
       "      <td>0</td>\n",
       "      <td>1</td>\n",
       "      <td>0</td>\n",
       "      <td>0</td>\n",
       "    </tr>\n",
       "    <tr>\n",
       "      <th>1336</th>\n",
       "      <td>59.0</td>\n",
       "      <td>38.1</td>\n",
       "      <td>120</td>\n",
       "      <td>1</td>\n",
       "      <td>58571.07</td>\n",
       "      <td>1</td>\n",
       "      <td>0</td>\n",
       "      <td>1</td>\n",
       "      <td>0</td>\n",
       "      <td>0</td>\n",
       "      <td>1</td>\n",
       "      <td>1</td>\n",
       "      <td>0</td>\n",
       "      <td>0</td>\n",
       "      <td>0</td>\n",
       "    </tr>\n",
       "    <tr>\n",
       "      <th>1337</th>\n",
       "      <td>30.0</td>\n",
       "      <td>34.5</td>\n",
       "      <td>91</td>\n",
       "      <td>3</td>\n",
       "      <td>60021.40</td>\n",
       "      <td>0</td>\n",
       "      <td>1</td>\n",
       "      <td>0</td>\n",
       "      <td>1</td>\n",
       "      <td>0</td>\n",
       "      <td>1</td>\n",
       "      <td>0</td>\n",
       "      <td>1</td>\n",
       "      <td>0</td>\n",
       "      <td>0</td>\n",
       "    </tr>\n",
       "    <tr>\n",
       "      <th>1338</th>\n",
       "      <td>37.0</td>\n",
       "      <td>30.4</td>\n",
       "      <td>106</td>\n",
       "      <td>0</td>\n",
       "      <td>62592.87</td>\n",
       "      <td>0</td>\n",
       "      <td>1</td>\n",
       "      <td>1</td>\n",
       "      <td>0</td>\n",
       "      <td>0</td>\n",
       "      <td>1</td>\n",
       "      <td>0</td>\n",
       "      <td>0</td>\n",
       "      <td>1</td>\n",
       "      <td>0</td>\n",
       "    </tr>\n",
       "    <tr>\n",
       "      <th>1339</th>\n",
       "      <td>30.0</td>\n",
       "      <td>47.4</td>\n",
       "      <td>101</td>\n",
       "      <td>0</td>\n",
       "      <td>63770.43</td>\n",
       "      <td>1</td>\n",
       "      <td>0</td>\n",
       "      <td>1</td>\n",
       "      <td>0</td>\n",
       "      <td>0</td>\n",
       "      <td>1</td>\n",
       "      <td>0</td>\n",
       "      <td>0</td>\n",
       "      <td>1</td>\n",
       "      <td>0</td>\n",
       "    </tr>\n",
       "  </tbody>\n",
       "</table>\n",
       "<p>1340 rows × 15 columns</p>\n",
       "</div>"
      ],
      "text/plain": [
       "       age   bmi  bloodpressure  children     claim  female  male  No  Yes  \\\n",
       "0     39.0  23.2             91         0   1121.87       0     1   0    1   \n",
       "1     24.0  30.1             87         0   1131.51       0     1   1    0   \n",
       "2     43.0  33.3             82         0   1135.94       0     1   0    1   \n",
       "3     43.0  33.7             80         0   1136.40       0     1   1    0   \n",
       "4     43.0  34.1            100         0   1137.01       0     1   1    0   \n",
       "...    ...   ...            ...       ...       ...     ...   ...  ..  ...   \n",
       "1335  44.0  35.5             88         0  55135.40       1     0   0    1   \n",
       "1336  59.0  38.1            120         1  58571.07       1     0   1    0   \n",
       "1337  30.0  34.5             91         3  60021.40       0     1   0    1   \n",
       "1338  37.0  30.4            106         0  62592.87       0     1   1    0   \n",
       "1339  30.0  47.4            101         0  63770.43       1     0   1    0   \n",
       "\n",
       "      No  Yes  northeast  northwest  southeast  southwest  \n",
       "0      1    0          0          0          1          0  \n",
       "1      1    0          0          0          1          0  \n",
       "2      1    0          0          0          1          0  \n",
       "3      1    0          0          1          0          0  \n",
       "4      1    0          0          1          0          0  \n",
       "...   ..  ...        ...        ...        ...        ...  \n",
       "1335   0    1          0          1          0          0  \n",
       "1336   0    1          1          0          0          0  \n",
       "1337   0    1          0          1          0          0  \n",
       "1338   0    1          0          0          1          0  \n",
       "1339   0    1          0          0          1          0  \n",
       "\n",
       "[1340 rows x 15 columns]"
      ]
     },
     "execution_count": 51,
     "metadata": {},
     "output_type": "execute_result"
    }
   ],
   "source": [
    "X"
   ]
  },
  {
   "cell_type": "code",
   "execution_count": 52,
   "id": "fedf2651",
   "metadata": {},
   "outputs": [],
   "source": [
    "X_train, X_test, y_train, y_test = train_test_split(X, y, test_size = 0.2)"
   ]
  },
  {
   "cell_type": "code",
   "execution_count": 53,
   "id": "6e14bec3",
   "metadata": {},
   "outputs": [
    {
     "data": {
      "text/plain": [
       "DecisionTreeRegressor(max_depth=5)"
      ]
     },
     "execution_count": 53,
     "metadata": {},
     "output_type": "execute_result"
    }
   ],
   "source": [
    "reg_tree = DecisionTreeRegressor(max_depth=5, min_samples_leaf=1) #greedy algorithm\n",
    "reg_tree.fit(X_train, y_train)"
   ]
  },
  {
   "cell_type": "code",
   "execution_count": 58,
   "id": "db0f11c0",
   "metadata": {},
   "outputs": [],
   "source": [
    "y_pred = reg_tree.predict(X_test)"
   ]
  },
  {
   "cell_type": "code",
   "execution_count": 59,
   "id": "e5774706",
   "metadata": {},
   "outputs": [
    {
     "data": {
      "text/plain": [
       "4.416559165719498"
      ]
     },
     "execution_count": 59,
     "metadata": {},
     "output_type": "execute_result"
    }
   ],
   "source": [
    "# MAPE\n",
    "np.mean(np.abs(y_test - y_pred)/y_test)*100"
   ]
  },
  {
   "cell_type": "code",
   "execution_count": null,
   "id": "37dfbf06",
   "metadata": {},
   "outputs": [],
   "source": []
  },
  {
   "cell_type": "code",
   "execution_count": null,
   "id": "8ac5e22f",
   "metadata": {},
   "outputs": [],
   "source": [
    "#we can see that it might be overfitting, we will try to fit further with Linear Regression. We will check assumptions, if not according to LR then different models"
   ]
  },
  {
   "cell_type": "code",
   "execution_count": null,
   "id": "ac41592f",
   "metadata": {},
   "outputs": [],
   "source": []
  },
  {
   "cell_type": "code",
   "execution_count": null,
   "id": "4bd42af6",
   "metadata": {},
   "outputs": [],
   "source": []
  },
  {
   "cell_type": "code",
   "execution_count": null,
   "id": "08b8fa6b",
   "metadata": {},
   "outputs": [],
   "source": []
  },
  {
   "cell_type": "code",
   "execution_count": null,
   "id": "8658e8be",
   "metadata": {},
   "outputs": [],
   "source": []
  },
  {
   "cell_type": "code",
   "execution_count": null,
   "id": "a623b2f5",
   "metadata": {},
   "outputs": [],
   "source": []
  },
  {
   "cell_type": "code",
   "execution_count": null,
   "id": "1b006471",
   "metadata": {},
   "outputs": [],
   "source": []
  },
  {
   "cell_type": "code",
   "execution_count": null,
   "id": "67e63ec0",
   "metadata": {},
   "outputs": [],
   "source": []
  },
  {
   "cell_type": "code",
   "execution_count": null,
   "id": "e7b2a3d5",
   "metadata": {},
   "outputs": [],
   "source": []
  },
  {
   "cell_type": "code",
   "execution_count": null,
   "id": "be945acf",
   "metadata": {},
   "outputs": [],
   "source": []
  },
  {
   "cell_type": "code",
   "execution_count": null,
   "id": "343efb5e",
   "metadata": {},
   "outputs": [],
   "source": []
  },
  {
   "cell_type": "code",
   "execution_count": null,
   "id": "7565241e",
   "metadata": {},
   "outputs": [],
   "source": []
  },
  {
   "cell_type": "code",
   "execution_count": null,
   "id": "eaece109",
   "metadata": {},
   "outputs": [],
   "source": []
  },
  {
   "cell_type": "code",
   "execution_count": null,
   "id": "a9998123",
   "metadata": {},
   "outputs": [],
   "source": []
  },
  {
   "cell_type": "code",
   "execution_count": null,
   "id": "bc5fa92c",
   "metadata": {},
   "outputs": [],
   "source": []
  },
  {
   "cell_type": "code",
   "execution_count": null,
   "id": "ae1adceb",
   "metadata": {},
   "outputs": [],
   "source": []
  },
  {
   "cell_type": "code",
   "execution_count": null,
   "id": "c2a11ccb",
   "metadata": {},
   "outputs": [],
   "source": []
  },
  {
   "cell_type": "code",
   "execution_count": null,
   "id": "c7012a14",
   "metadata": {},
   "outputs": [],
   "source": []
  },
  {
   "cell_type": "code",
   "execution_count": null,
   "id": "f7c93ad3",
   "metadata": {},
   "outputs": [],
   "source": []
  },
  {
   "cell_type": "code",
   "execution_count": null,
   "id": "399cd04a",
   "metadata": {},
   "outputs": [],
   "source": []
  },
  {
   "cell_type": "code",
   "execution_count": null,
   "id": "7f726c70",
   "metadata": {},
   "outputs": [],
   "source": []
  },
  {
   "cell_type": "code",
   "execution_count": null,
   "id": "fac6171e",
   "metadata": {},
   "outputs": [],
   "source": []
  },
  {
   "cell_type": "code",
   "execution_count": null,
   "id": "e1234bad",
   "metadata": {},
   "outputs": [],
   "source": []
  },
  {
   "cell_type": "code",
   "execution_count": null,
   "id": "70dad7d4",
   "metadata": {},
   "outputs": [],
   "source": []
  },
  {
   "cell_type": "code",
   "execution_count": null,
   "id": "1e818eab",
   "metadata": {},
   "outputs": [],
   "source": []
  },
  {
   "cell_type": "code",
   "execution_count": null,
   "id": "ac2ecf1a",
   "metadata": {},
   "outputs": [],
   "source": []
  },
  {
   "cell_type": "code",
   "execution_count": null,
   "id": "05125bd4",
   "metadata": {},
   "outputs": [],
   "source": []
  },
  {
   "cell_type": "code",
   "execution_count": null,
   "id": "625b1db3",
   "metadata": {},
   "outputs": [],
   "source": []
  },
  {
   "cell_type": "code",
   "execution_count": null,
   "id": "b18dd0aa",
   "metadata": {},
   "outputs": [],
   "source": []
  },
  {
   "cell_type": "code",
   "execution_count": null,
   "id": "31e3c193",
   "metadata": {},
   "outputs": [],
   "source": []
  },
  {
   "cell_type": "code",
   "execution_count": null,
   "id": "ad1e61c7",
   "metadata": {},
   "outputs": [],
   "source": []
  },
  {
   "cell_type": "code",
   "execution_count": null,
   "id": "05398b9c",
   "metadata": {},
   "outputs": [],
   "source": []
  },
  {
   "cell_type": "code",
   "execution_count": null,
   "id": "79c66130",
   "metadata": {},
   "outputs": [],
   "source": []
  },
  {
   "cell_type": "code",
   "execution_count": null,
   "id": "3597caa7",
   "metadata": {},
   "outputs": [],
   "source": []
  },
  {
   "cell_type": "code",
   "execution_count": null,
   "id": "aab0548e",
   "metadata": {},
   "outputs": [],
   "source": []
  },
  {
   "cell_type": "code",
   "execution_count": null,
   "id": "d3fbdc8d",
   "metadata": {},
   "outputs": [],
   "source": []
  },
  {
   "cell_type": "code",
   "execution_count": null,
   "id": "5009cffc",
   "metadata": {},
   "outputs": [],
   "source": []
  },
  {
   "cell_type": "code",
   "execution_count": null,
   "id": "856c2c3a",
   "metadata": {},
   "outputs": [],
   "source": []
  },
  {
   "cell_type": "code",
   "execution_count": null,
   "id": "8b0890a2",
   "metadata": {},
   "outputs": [],
   "source": []
  },
  {
   "cell_type": "code",
   "execution_count": null,
   "id": "4deeb987",
   "metadata": {},
   "outputs": [],
   "source": []
  },
  {
   "cell_type": "code",
   "execution_count": null,
   "id": "67598e5c",
   "metadata": {},
   "outputs": [],
   "source": []
  },
  {
   "cell_type": "code",
   "execution_count": null,
   "id": "769561b0",
   "metadata": {},
   "outputs": [],
   "source": []
  },
  {
   "cell_type": "code",
   "execution_count": null,
   "id": "044bc924",
   "metadata": {},
   "outputs": [],
   "source": []
  },
  {
   "cell_type": "code",
   "execution_count": null,
   "id": "5d5b3dbf",
   "metadata": {},
   "outputs": [],
   "source": []
  },
  {
   "cell_type": "code",
   "execution_count": null,
   "id": "d71df452",
   "metadata": {},
   "outputs": [],
   "source": []
  },
  {
   "cell_type": "code",
   "execution_count": null,
   "id": "564544fc",
   "metadata": {},
   "outputs": [],
   "source": []
  },
  {
   "cell_type": "code",
   "execution_count": null,
   "id": "74e08b94",
   "metadata": {},
   "outputs": [],
   "source": []
  },
  {
   "cell_type": "code",
   "execution_count": null,
   "id": "97c36146",
   "metadata": {},
   "outputs": [],
   "source": []
  },
  {
   "cell_type": "code",
   "execution_count": null,
   "id": "8bf72ea6",
   "metadata": {},
   "outputs": [],
   "source": []
  },
  {
   "cell_type": "code",
   "execution_count": null,
   "id": "b65ae08c",
   "metadata": {},
   "outputs": [],
   "source": []
  },
  {
   "cell_type": "code",
   "execution_count": null,
   "id": "d903ec7f",
   "metadata": {},
   "outputs": [],
   "source": []
  },
  {
   "cell_type": "code",
   "execution_count": null,
   "id": "bd0805d9",
   "metadata": {},
   "outputs": [],
   "source": []
  },
  {
   "cell_type": "code",
   "execution_count": null,
   "id": "1adae611",
   "metadata": {},
   "outputs": [],
   "source": []
  },
  {
   "cell_type": "code",
   "execution_count": null,
   "id": "e7f36116",
   "metadata": {},
   "outputs": [],
   "source": []
  },
  {
   "cell_type": "code",
   "execution_count": null,
   "id": "5fd5bad6",
   "metadata": {},
   "outputs": [],
   "source": []
  },
  {
   "cell_type": "code",
   "execution_count": 56,
   "id": "a57b87d8",
   "metadata": {},
   "outputs": [
    {
     "ename": "SyntaxError",
     "evalue": "invalid syntax (Temp/ipykernel_16164/2704602239.py, line 4)",
     "output_type": "error",
     "traceback": [
      "\u001b[1;36m  File \u001b[1;32m\"C:\\Users\\hp\\AppData\\Local\\Temp/ipykernel_16164/2704602239.py\"\u001b[1;36m, line \u001b[1;32m4\u001b[0m\n\u001b[1;33m    H0:mu<=30.67  ,  H1:mu>30.67\u001b[0m\n\u001b[1;37m                  ^\u001b[0m\n\u001b[1;31mSyntaxError\u001b[0m\u001b[1;31m:\u001b[0m invalid syntax\n"
     ]
    }
   ],
   "source": [
    "## hypothesis Testing\n",
    "\n",
    "#step 1\n",
    "H0:mu<=30.67  ,  H1:mu>30.67 "
   ]
  },
  {
   "cell_type": "code",
   "execution_count": null,
   "id": "1322c857",
   "metadata": {},
   "outputs": [],
   "source": [
    "sigma=df['bmi'].std()\n",
    "mu=df['bmi'].mean()\n",
    "sigma,mu\n",
    "\n",
    "x_bar=31\n",
    "\n",
    "df['bmi'].sample(n=30, random_state=1)\n",
    "\n",
    "a=0.05\n",
    "\n",
    "Zcritical= stats.norm.isf(0.05)                   \n",
    "print(Zcritical)                \n",
    "\n",
    "Z_statistic=((31-30.66)/(sigma/np.sqrt(30)))\n",
    "print(Z_statistic)"
   ]
  },
  {
   "cell_type": "code",
   "execution_count": null,
   "id": "6fcee233",
   "metadata": {},
   "outputs": [],
   "source": []
  },
  {
   "cell_type": "code",
   "execution_count": null,
   "id": "061dc2fa",
   "metadata": {},
   "outputs": [],
   "source": [
    "df[df.gender==\"male\"].claim.mean()"
   ]
  },
  {
   "cell_type": "code",
   "execution_count": null,
   "id": "07706125",
   "metadata": {},
   "outputs": [],
   "source": []
  },
  {
   "cell_type": "code",
   "execution_count": null,
   "id": "8860d750",
   "metadata": {},
   "outputs": [],
   "source": [
    "import numpy as np\n",
    "import pandas as pd\n",
    "from sklearn.preprocessing import LabelEncoder\n",
    "from sklearn.model_selection import train_test_split\n",
    "# Integer encode columns with 2 unique values\n",
    "for col in ['gender', 'smoker']:\n",
    "    le = LabelEncoder()\n",
    "    df[col] = le.fit_transform(df[col])\n",
    "# One-hot encode columns with more than 2 unique values\n",
    "df = pd.get_dummies(df, columns=['region'], prefix = ['region'])"
   ]
  },
  {
   "cell_type": "code",
   "execution_count": null,
   "id": "09e178f6",
   "metadata": {},
   "outputs": [],
   "source": []
  },
  {
   "cell_type": "code",
   "execution_count": null,
   "id": "25ccface",
   "metadata": {},
   "outputs": [],
   "source": []
  }
 ],
 "metadata": {
  "kernelspec": {
   "display_name": "Python 3 (ipykernel)",
   "language": "python",
   "name": "python3"
  },
  "language_info": {
   "codemirror_mode": {
    "name": "ipython",
    "version": 3
   },
   "file_extension": ".py",
   "mimetype": "text/x-python",
   "name": "python",
   "nbconvert_exporter": "python",
   "pygments_lexer": "ipython3",
   "version": "3.9.7"
  }
 },
 "nbformat": 4,
 "nbformat_minor": 5
}
